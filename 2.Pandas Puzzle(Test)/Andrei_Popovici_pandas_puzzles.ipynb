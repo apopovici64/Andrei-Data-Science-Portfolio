{
  "metadata": {
    "kernelspec": {
      "name": "python",
      "display_name": "Python (Pyodide)",
      "language": "python"
    },
    "language_info": {
      "codemirror_mode": {
        "name": "python",
        "version": 3
      },
      "file_extension": ".py",
      "mimetype": "text/x-python",
      "name": "python",
      "nbconvert_exporter": "python",
      "pygments_lexer": "ipython3",
      "version": "3.8"
    },
    "colab": {
      "name": "Andrei Popovici-pandas-puzzles.ipynb",
      "provenance": [],
      "collapsed_sections": []
    }
  },
  "nbformat_minor": 4,
  "nbformat": 4,
  "cells": [
    {
      "cell_type": "markdown",
      "source": "# pandas puzzles\n\nshort puzzles for testing your knowledge of [pandas'](http://pandas.pydata.org/) power.\n\nSince pandas is a large library with many different specialist features and functions, these excercises focus mainly on the fundamentals of manipulating data (indexing, grouping, aggregating, cleaning), making use of the core DataFrame and Series objects. \n\nMany of the excerises here are stright-forward in that the solutions require no more than a few lines of code (in pandas or NumPy... don't go using pure Python or Cython!). Choosing the right methods and following best practices is the underlying goal.\n\nThe exercises are loosely divided in sections. Each section has a difficulty rating; these ratings are subjective, of course, but should be a seen as a rough guide as to how inventive the required solution is.\n\nIf you're just starting out with pandas and you are looking for some other resources, the official documentation  is very extensive. In particular, some good places get a broader overview of pandas are...\n\n- [10 minutes to pandas](http://pandas.pydata.org/pandas-docs/stable/10min.html)\n- [pandas basics](http://pandas.pydata.org/pandas-docs/stable/basics.html)\n- [tutorials](http://pandas.pydata.org/pandas-docs/stable/tutorials.html)\n- [cookbook and idioms](http://pandas.pydata.org/pandas-docs/stable/cookbook.html#cookbook)\n\nEnjoy the puzzles!\n\n",
      "metadata": {
        "id": "NQ4dHRCtTPxb"
      }
    },
    {
      "cell_type": "markdown",
      "source": "# New Section",
      "metadata": {
        "id": "Gj82PwflTx5a"
      }
    },
    {
      "cell_type": "markdown",
      "source": "## Importing pandas\n\n### Getting started and checking your pandas setup\n\nDifficulty: *easy* \n\n**1.** Import pandas under the alias `pd`.",
      "metadata": {
        "id": "vLxPkgSNTPxp"
      }
    },
    {
      "cell_type": "code",
      "source": "import pandas as pd ",
      "metadata": {
        "id": "EC297DW3TPxr",
        "tags": []
      },
      "execution_count": 1395,
      "outputs": []
    },
    {
      "cell_type": "markdown",
      "source": "**2.** Print the version of pandas that has been imported.",
      "metadata": {
        "id": "EUY_9aAwTPxv"
      }
    },
    {
      "cell_type": "code",
      "source": "print (pd.__version__) ",
      "metadata": {
        "colab": {
          "base_uri": "https://localhost:8080/"
        },
        "id": "mySG2D2qTPxw",
        "outputId": "423f4947-a4d5-4738-b192-5680910d6f26",
        "tags": []
      },
      "execution_count": 1396,
      "outputs": [
        {
          "output_type": "stream",
          "name": "stdout",
          "text": "1.3.5\n"
        }
      ]
    },
    {
      "cell_type": "markdown",
      "source": "**3.** Print out all the *version* information of the libraries that are required by the pandas library.",
      "metadata": {
        "id": "Vs6xYCOXTPxx"
      }
    },
    {
      "cell_type": "code",
      "source": "pd.show_versions() ",
      "metadata": {
        "colab": {
          "base_uri": "https://localhost:8080/"
        },
        "id": "Tu-sZzy_TPxy",
        "outputId": "af568b24-c0f7-4466-876d-43cb62388ecf",
        "tags": []
      },
      "execution_count": 1397,
      "outputs": [
        {
          "output_type": "stream",
          "name": "stdout",
          "text": "\n\nINSTALLED VERSIONS\n\n------------------\n\ncommit           : 66e3805b8cabe977f40c05259cc3fcf7ead5687d\n\npython           : 3.7.13.final.0\n\npython-bits      : 64\n\nOS               : Linux\n\nOS-release       : 5.4.188+\n\nVersion          : #1 SMP Sun Apr 24 10:03:06 PDT 2022\n\nmachine          : x86_64\n\nprocessor        : x86_64\n\nbyteorder        : little\n\nLC_ALL           : None\n\nLANG             : en_US.UTF-8\n\nLOCALE           : en_US.UTF-8\n\n\n\npandas           : 1.3.5\n\nnumpy            : 1.21.6\n\npytz             : 2022.1\n\ndateutil         : 2.8.2\n\npip              : 21.1.3\n\nsetuptools       : 57.4.0\n\nCython           : 0.29.30\n\npytest           : 3.6.4\n\nhypothesis       : None\n\nsphinx           : 1.8.6\n\nblosc            : None\n\nfeather          : 0.4.1\n\nxlsxwriter       : None\n\nlxml.etree       : 4.2.6\n\nhtml5lib         : 1.0.1\n\npymysql          : None\n\npsycopg2         : 2.7.6.1 (dt dec pq3 ext lo64)\n\njinja2           : 2.11.3\n\nIPython          : 5.5.0\n\npandas_datareader: 0.9.0\n\nbs4              : 4.6.3\n\nbottleneck       : 1.3.4\n\nfsspec           : None\n\nfastparquet      : None\n\ngcsfs            : None\n\nmatplotlib       : 3.2.2\n\nnumexpr          : 2.8.1\n\nodfpy            : None\n\nopenpyxl         : 3.0.10\n\npandas_gbq       : 0.13.3\n\npyarrow          : 6.0.1\n\npyxlsb           : None\n\ns3fs             : None\n\nscipy            : 1.4.1\n\nsqlalchemy       : 1.4.36\n\ntables           : 3.7.0\n\ntabulate         : 0.8.9\n\nxarray           : 0.20.2\n\nxlrd             : 1.1.0\n\nxlwt             : 1.3.0\n\nnumba            : 0.51.2\n"
        }
      ]
    },
    {
      "cell_type": "markdown",
      "source": "## DataFrame basics\n\n### A few of the fundamental routines for selecting, sorting, adding and aggregating data in DataFrames\n\nDifficulty: *easy*\n\nNote: remember to import numpy using:\n```python\nimport numpy as np\n```\n\nConsider the following Python dictionary `data` and Python list `labels`:\n\n``` python\ndata = {'animal': ['cat', 'cat', 'snake', 'dog', 'dog', 'cat', 'snake', 'cat', 'dog', 'dog'],\n        'age': [2.5, 3, 0.5, np.nan, 5, 2, 4.5, np.nan, 7, 3],\n        'visits': [1, 3, 2, 3, 2, 3, 1, 1, 2, 1],\n        'priority': ['yes', 'yes', 'no', 'yes', 'no', 'no', 'no', 'yes', 'no', 'no']}\n\nlabels = ['a', 'b', 'c', 'd', 'e', 'f', 'g', 'h', 'i', 'j']\n```\n(This is just some meaningless data I made up with the theme of animals and trips to a vet.)\n\n**4.** Create a DataFrame `df` from this dictionary `data` which has the index `labels`.",
      "metadata": {
        "id": "cp-wGfEYTPxz"
      }
    },
    {
      "cell_type": "code",
      "source": "import numpy as np\n\ndata = {'animal': ['cat', 'cat', 'snake', 'dog', 'dog', 'cat', 'snake', 'cat', 'dog', 'dog'],\n        'age': [2.5, 3, 0.5, np.nan, 5, 2, 4.5, np.nan, 7, 3],\n        'visits': [1, 3, 2, 3, 2, 3, 1, 1, 2, 1],\n        'priority': ['yes', 'yes', 'no', 'yes', 'no', 'no', 'no', 'yes', 'no', 'no']}\n\nlabels = ['a', 'b', 'c', 'd', 'e', 'f', 'g', 'h', 'i', 'j']\n\ndf = pd.DataFrame(data, index=labels) #5min",
      "metadata": {
        "id": "5dZo7xeZTPx2",
        "tags": []
      },
      "execution_count": 1398,
      "outputs": []
    },
    {
      "cell_type": "markdown",
      "source": "**5.** Display a summary of the basic information about this DataFrame and its data (*hint: there is a single method that can be called on the DataFrame*).",
      "metadata": {
        "id": "HP9Q1XLCTPx4"
      }
    },
    {
      "cell_type": "code",
      "source": "df.info() # 3min",
      "metadata": {
        "colab": {
          "base_uri": "https://localhost:8080/"
        },
        "id": "j9BsE-GDTPx6",
        "outputId": "fb60a533-9ee1-420e-96e9-3abfdc1e712f",
        "tags": []
      },
      "execution_count": 1399,
      "outputs": [
        {
          "output_type": "stream",
          "name": "stdout",
          "text": "<class 'pandas.core.frame.DataFrame'>\n\nIndex: 10 entries, a to j\n\nData columns (total 4 columns):\n\n #   Column    Non-Null Count  Dtype  \n\n---  ------    --------------  -----  \n\n 0   animal    10 non-null     object \n\n 1   age       8 non-null      float64\n\n 2   visits    10 non-null     int64  \n\n 3   priority  10 non-null     object \n\ndtypes: float64(1), int64(1), object(2)\n\nmemory usage: 400.0+ bytes\n"
        }
      ]
    },
    {
      "cell_type": "markdown",
      "source": "**6.** Return the first 3 rows of the DataFrame `df`.",
      "metadata": {
        "id": "sg5QZxuyTPx7"
      }
    },
    {
      "cell_type": "code",
      "source": "df.head(3) #1min",
      "metadata": {
        "colab": {
          "base_uri": "https://localhost:8080/",
          "height": 143
        },
        "id": "jPwc0eNrTPx8",
        "outputId": "4ee2b839-ce1b-4026-d059-117e027ff2ab",
        "tags": []
      },
      "execution_count": 1400,
      "outputs": [
        {
          "output_type": "execute_result",
          "execution_count": 1400,
          "data": {
            "text/plain": [
              "  animal  age  visits priority\n",
              "a    cat  2.5       1      yes\n",
              "b    cat  3.0       3      yes\n",
              "c  snake  0.5       2       no"
            ],
            "text/html": [
              "\n",
              "  <div id=\"df-fa00443a-d6a2-4a7c-a481-874f4018cf58\">\n",
              "    <div class=\"colab-df-container\">\n",
              "      <div>\n",
              "<style scoped>\n",
              "    .dataframe tbody tr th:only-of-type {\n",
              "        vertical-align: middle;\n",
              "    }\n",
              "\n",
              "    .dataframe tbody tr th {\n",
              "        vertical-align: top;\n",
              "    }\n",
              "\n",
              "    .dataframe thead th {\n",
              "        text-align: right;\n",
              "    }\n",
              "</style>\n",
              "<table border=\"1\" class=\"dataframe\">\n",
              "  <thead>\n",
              "    <tr style=\"text-align: right;\">\n",
              "      <th></th>\n",
              "      <th>animal</th>\n",
              "      <th>age</th>\n",
              "      <th>visits</th>\n",
              "      <th>priority</th>\n",
              "    </tr>\n",
              "  </thead>\n",
              "  <tbody>\n",
              "    <tr>\n",
              "      <th>a</th>\n",
              "      <td>cat</td>\n",
              "      <td>2.5</td>\n",
              "      <td>1</td>\n",
              "      <td>yes</td>\n",
              "    </tr>\n",
              "    <tr>\n",
              "      <th>b</th>\n",
              "      <td>cat</td>\n",
              "      <td>3.0</td>\n",
              "      <td>3</td>\n",
              "      <td>yes</td>\n",
              "    </tr>\n",
              "    <tr>\n",
              "      <th>c</th>\n",
              "      <td>snake</td>\n",
              "      <td>0.5</td>\n",
              "      <td>2</td>\n",
              "      <td>no</td>\n",
              "    </tr>\n",
              "  </tbody>\n",
              "</table>\n",
              "</div>\n",
              "      <button class=\"colab-df-convert\" onclick=\"convertToInteractive('df-fa00443a-d6a2-4a7c-a481-874f4018cf58')\"\n",
              "              title=\"Convert this dataframe to an interactive table.\"\n",
              "              style=\"display:none;\">\n",
              "        \n",
              "  <svg xmlns=\"http://www.w3.org/2000/svg\" height=\"24px\"viewBox=\"0 0 24 24\"\n",
              "       width=\"24px\">\n",
              "    <path d=\"M0 0h24v24H0V0z\" fill=\"none\"/>\n",
              "    <path d=\"M18.56 5.44l.94 2.06.94-2.06 2.06-.94-2.06-.94-.94-2.06-.94 2.06-2.06.94zm-11 1L8.5 8.5l.94-2.06 2.06-.94-2.06-.94L8.5 2.5l-.94 2.06-2.06.94zm10 10l.94 2.06.94-2.06 2.06-.94-2.06-.94-.94-2.06-.94 2.06-2.06.94z\"/><path d=\"M17.41 7.96l-1.37-1.37c-.4-.4-.92-.59-1.43-.59-.52 0-1.04.2-1.43.59L10.3 9.45l-7.72 7.72c-.78.78-.78 2.05 0 2.83L4 21.41c.39.39.9.59 1.41.59.51 0 1.02-.2 1.41-.59l7.78-7.78 2.81-2.81c.8-.78.8-2.07 0-2.86zM5.41 20L4 18.59l7.72-7.72 1.47 1.35L5.41 20z\"/>\n",
              "  </svg>\n",
              "      </button>\n",
              "      \n",
              "  <style>\n",
              "    .colab-df-container {\n",
              "      display:flex;\n",
              "      flex-wrap:wrap;\n",
              "      gap: 12px;\n",
              "    }\n",
              "\n",
              "    .colab-df-convert {\n",
              "      background-color: #E8F0FE;\n",
              "      border: none;\n",
              "      border-radius: 50%;\n",
              "      cursor: pointer;\n",
              "      display: none;\n",
              "      fill: #1967D2;\n",
              "      height: 32px;\n",
              "      padding: 0 0 0 0;\n",
              "      width: 32px;\n",
              "    }\n",
              "\n",
              "    .colab-df-convert:hover {\n",
              "      background-color: #E2EBFA;\n",
              "      box-shadow: 0px 1px 2px rgba(60, 64, 67, 0.3), 0px 1px 3px 1px rgba(60, 64, 67, 0.15);\n",
              "      fill: #174EA6;\n",
              "    }\n",
              "\n",
              "    [theme=dark] .colab-df-convert {\n",
              "      background-color: #3B4455;\n",
              "      fill: #D2E3FC;\n",
              "    }\n",
              "\n",
              "    [theme=dark] .colab-df-convert:hover {\n",
              "      background-color: #434B5C;\n",
              "      box-shadow: 0px 1px 3px 1px rgba(0, 0, 0, 0.15);\n",
              "      filter: drop-shadow(0px 1px 2px rgba(0, 0, 0, 0.3));\n",
              "      fill: #FFFFFF;\n",
              "    }\n",
              "  </style>\n",
              "\n",
              "      <script>\n",
              "        const buttonEl =\n",
              "          document.querySelector('#df-fa00443a-d6a2-4a7c-a481-874f4018cf58 button.colab-df-convert');\n",
              "        buttonEl.style.display =\n",
              "          google.colab.kernel.accessAllowed ? 'block' : 'none';\n",
              "\n",
              "        async function convertToInteractive(key) {\n",
              "          const element = document.querySelector('#df-fa00443a-d6a2-4a7c-a481-874f4018cf58');\n",
              "          const dataTable =\n",
              "            await google.colab.kernel.invokeFunction('convertToInteractive',\n",
              "                                                     [key], {});\n",
              "          if (!dataTable) return;\n",
              "\n",
              "          const docLinkHtml = 'Like what you see? Visit the ' +\n",
              "            '<a target=\"_blank\" href=https://colab.research.google.com/notebooks/data_table.ipynb>data table notebook</a>'\n",
              "            + ' to learn more about interactive tables.';\n",
              "          element.innerHTML = '';\n",
              "          dataTable['output_type'] = 'display_data';\n",
              "          await google.colab.output.renderOutput(dataTable, element);\n",
              "          const docLink = document.createElement('div');\n",
              "          docLink.innerHTML = docLinkHtml;\n",
              "          element.appendChild(docLink);\n",
              "        }\n",
              "      </script>\n",
              "    </div>\n",
              "  </div>\n",
              "  "
            ]
          },
          "metadata": {}
        }
      ]
    },
    {
      "cell_type": "markdown",
      "source": "**7.** Select just the 'animal' and 'age' columns from the DataFrame `df`.",
      "metadata": {
        "id": "Z-3xAzriTPx8"
      }
    },
    {
      "cell_type": "code",
      "source": "df_sel_cols=df[['animal', 'age']]\nprint (df_sel_cols) #2min",
      "metadata": {
        "colab": {
          "base_uri": "https://localhost:8080/"
        },
        "id": "ylf6FMkdTPx9",
        "outputId": "b595f7f3-6f70-4994-a97a-b8da676e2225",
        "tags": []
      },
      "execution_count": 1401,
      "outputs": [
        {
          "output_type": "stream",
          "name": "stdout",
          "text": "  animal  age\n\na    cat  2.5\n\nb    cat  3.0\n\nc  snake  0.5\n\nd    dog  NaN\n\ne    dog  5.0\n\nf    cat  2.0\n\ng  snake  4.5\n\nh    cat  NaN\n\ni    dog  7.0\n\nj    dog  3.0\n"
        }
      ]
    },
    {
      "cell_type": "markdown",
      "source": "**8.** Select the data in rows `[3, 4, 8]` *and* in columns `['animal', 'age']`.",
      "metadata": {
        "id": "Z6oK1_V0TPx-"
      }
    },
    {
      "cell_type": "code",
      "source": "df_sel_rows1 = df_sel_cols.iloc[[3, 4, 8]]\nprint (df_sel_rows1) #3min",
      "metadata": {
        "colab": {
          "base_uri": "https://localhost:8080/"
        },
        "id": "w6K_GNt6TPx-",
        "outputId": "79d3e9a7-adc4-41ee-8d9a-dc116b4ece3c",
        "tags": []
      },
      "execution_count": 1402,
      "outputs": [
        {
          "output_type": "stream",
          "name": "stdout",
          "text": "  animal  age\n\nd    dog  NaN\n\ne    dog  5.0\n\ni    dog  7.0\n"
        }
      ]
    },
    {
      "cell_type": "markdown",
      "source": "**9.** Select only the rows where the number of visits is greater than 3.",
      "metadata": {
        "id": "X9AW5VtuTPx_"
      }
    },
    {
      "cell_type": "code",
      "source": "crit1=df['visits']>=3\ndf_sel_rows2 = df[crit1]\nprint (df_sel_rows2) #20min",
      "metadata": {
        "colab": {
          "base_uri": "https://localhost:8080/"
        },
        "id": "RkdOUTPyTPx_",
        "outputId": "991d0990-81fe-4d67-de73-17593f174509",
        "tags": []
      },
      "execution_count": 1403,
      "outputs": [
        {
          "output_type": "stream",
          "name": "stdout",
          "text": "  animal  age  visits priority\n\nb    cat  3.0       3      yes\n\nd    dog  NaN       3      yes\n\nf    cat  2.0       3       no\n"
        }
      ]
    },
    {
      "cell_type": "markdown",
      "source": "**10.** Select the rows where the age is missing, i.e. it is `NaN`.",
      "metadata": {
        "id": "0siNy2uaTPyA"
      }
    },
    {
      "cell_type": "code",
      "source": "crit2 = df['age'].isnull()\ndf_sel_rows3 = df[crit2]\nprint (df_sel_rows3) #10min",
      "metadata": {
        "colab": {
          "base_uri": "https://localhost:8080/"
        },
        "id": "7s8ZKS3FTPyA",
        "outputId": "003e9485-da2c-4791-86fc-9036fbf2454b",
        "tags": []
      },
      "execution_count": 1404,
      "outputs": [
        {
          "output_type": "stream",
          "name": "stdout",
          "text": "  animal  age  visits priority\n\nd    dog  NaN       3      yes\n\nh    cat  NaN       1      yes\n"
        }
      ]
    },
    {
      "cell_type": "markdown",
      "source": "**11.** Select the rows where the animal is a cat *and* the age is less than 3.",
      "metadata": {
        "id": "HaUXrC3dTPyA"
      }
    },
    {
      "cell_type": "code",
      "source": "crit4 = (df['animal']=='cat') & (df['age']<3)\ndf_sel_rows4 = df[crit4]\nprint (df_sel_rows4)  #5min",
      "metadata": {
        "colab": {
          "base_uri": "https://localhost:8080/"
        },
        "id": "3jAT2nyPTPyB",
        "outputId": "aeba031c-4e5e-4cb1-9df1-b2d94095be25",
        "tags": []
      },
      "execution_count": 1405,
      "outputs": [
        {
          "output_type": "stream",
          "name": "stdout",
          "text": "  animal  age  visits priority\n\na    cat  2.5       1      yes\n\nf    cat  2.0       3       no\n"
        }
      ]
    },
    {
      "cell_type": "markdown",
      "source": "**12.** Select the rows the age is between 2 and 4 (inclusive).",
      "metadata": {
        "id": "WLn9jF-QTPyB"
      }
    },
    {
      "cell_type": "code",
      "source": "crit5 = (df['age'] >=2) & (df['age'] <=4)\ndf_sel_rows5 = df[crit5]\nprint (df_sel_rows5)   #5min",
      "metadata": {
        "colab": {
          "base_uri": "https://localhost:8080/"
        },
        "id": "EEoCKmHnTPyB",
        "outputId": "c28e830e-87b9-42bb-f793-5f3a1f693e8a",
        "tags": []
      },
      "execution_count": 1406,
      "outputs": [
        {
          "output_type": "stream",
          "name": "stdout",
          "text": "  animal  age  visits priority\n\na    cat  2.5       1      yes\n\nb    cat  3.0       3      yes\n\nf    cat  2.0       3       no\n\nj    dog  3.0       1       no\n"
        }
      ]
    },
    {
      "cell_type": "markdown",
      "source": "**13.** Change the age in row 'f' to 1.5.",
      "metadata": {
        "id": "W7eUDFSTTPyC"
      }
    },
    {
      "cell_type": "code",
      "source": "df['age'].loc['f'] = 1.5\nprint (df) #10min",
      "metadata": {
        "collapsed": true,
        "colab": {
          "base_uri": "https://localhost:8080/"
        },
        "id": "J-aEzW1JTPyC",
        "outputId": "a94917bc-8c68-4155-c129-3898240efb37",
        "jupyter": {
          "outputs_hidden": true
        }
      },
      "execution_count": 1407,
      "outputs": [
        {
          "output_type": "stream",
          "name": "stdout",
          "text": "  animal  age  visits priority\n\na    cat  2.5       1      yes\n\nb    cat  3.0       3      yes\n\nc  snake  0.5       2       no\n\nd    dog  NaN       3      yes\n\ne    dog  5.0       2       no\n\nf    cat  1.5       3       no\n\ng  snake  4.5       1       no\n\nh    cat  NaN       1      yes\n\ni    dog  7.0       2       no\n\nj    dog  3.0       1       no\n"
        },
        {
          "output_type": "stream",
          "name": "stderr",
          "text": "/usr/local/lib/python3.7/dist-packages/pandas/core/indexing.py:1732: SettingWithCopyWarning: \n\nA value is trying to be set on a copy of a slice from a DataFrame\n\n\n\nSee the caveats in the documentation: https://pandas.pydata.org/pandas-docs/stable/user_guide/indexing.html#returning-a-view-versus-a-copy\n\n  self._setitem_single_block(indexer, value, name)\n"
        }
      ]
    },
    {
      "cell_type": "markdown",
      "source": "**14.** Calculate the sum of all visits in `df` (i.e. find the total number of visits).",
      "metadata": {
        "id": "YR6sn1QYTPyC"
      }
    },
    {
      "cell_type": "code",
      "source": "sum_visits = df['visits'].sum()\nprint (sum_visits) #2min",
      "metadata": {
        "collapsed": true,
        "colab": {
          "base_uri": "https://localhost:8080/"
        },
        "id": "oS271LjxTPyD",
        "outputId": "4d49d6a7-8521-47ad-8bb7-e8dfdf2fff58",
        "jupyter": {
          "outputs_hidden": true
        }
      },
      "execution_count": 1408,
      "outputs": [
        {
          "output_type": "stream",
          "name": "stdout",
          "text": "19\n"
        }
      ]
    },
    {
      "cell_type": "markdown",
      "source": "**15.** Calculate the mean age for each different animal in `df`.",
      "metadata": {
        "id": "N5rjr1w1TPyE"
      }
    },
    {
      "cell_type": "code",
      "source": "df_grouped=df.groupby(['animal'])['age'].agg('mean')\nprint (df_grouped) #10min",
      "metadata": {
        "colab": {
          "base_uri": "https://localhost:8080/"
        },
        "id": "0fqiHyRwTPyE",
        "outputId": "f0df3d4c-04d5-43b8-b7f7-c94e11a7e559",
        "tags": []
      },
      "execution_count": 1409,
      "outputs": [
        {
          "output_type": "stream",
          "name": "stdout",
          "text": "animal\n\ncat      2.333333\n\ndog      5.000000\n\nsnake    2.500000\n\nName: age, dtype: float64\n"
        }
      ]
    },
    {
      "cell_type": "markdown",
      "source": "**16.** Append a new row 'k' to `df` with your choice of values for each column. Then delete that row to return the original DataFrame.",
      "metadata": {
        "id": "Xw6Gr8QHTPyE"
      }
    },
    {
      "cell_type": "code",
      "source": "new_row = ['goat', 1.5, 2, 'yes']\ndf.loc['k'] = new_row\n#print(df)\ndf=df.drop(['k'])\nprint(df) #20min",
      "metadata": {
        "collapsed": true,
        "colab": {
          "base_uri": "https://localhost:8080/"
        },
        "id": "t_QchGR-TPyF",
        "outputId": "a751d00d-7876-4412-d6ab-41dde858e1eb",
        "jupyter": {
          "outputs_hidden": true
        }
      },
      "execution_count": 1410,
      "outputs": [
        {
          "output_type": "stream",
          "name": "stdout",
          "text": "  animal  age  visits priority\n\na    cat  2.5       1      yes\n\nb    cat  3.0       3      yes\n\nc  snake  0.5       2       no\n\nd    dog  NaN       3      yes\n\ne    dog  5.0       2       no\n\nf    cat  1.5       3       no\n\ng  snake  4.5       1       no\n\nh    cat  NaN       1      yes\n\ni    dog  7.0       2       no\n\nj    dog  3.0       1       no\n"
        }
      ]
    },
    {
      "cell_type": "markdown",
      "source": "**17.** Count the number of each type of animal in `df`.",
      "metadata": {
        "id": "4hquR9xvTPyG"
      }
    },
    {
      "cell_type": "code",
      "source": "df_grouped1 = df.groupby(['animal'])['animal'].agg('count')\nprint (df_grouped1) #5min",
      "metadata": {
        "collapsed": true,
        "colab": {
          "base_uri": "https://localhost:8080/"
        },
        "id": "L0B9iwaeTPyK",
        "outputId": "dbbd27d5-7209-4ecf-a791-7f4775b5bf75",
        "jupyter": {
          "outputs_hidden": true
        }
      },
      "execution_count": 1411,
      "outputs": [
        {
          "output_type": "stream",
          "name": "stdout",
          "text": "animal\n\ncat      4\n\ndog      4\n\nsnake    2\n\nName: animal, dtype: int64\n"
        }
      ]
    },
    {
      "cell_type": "markdown",
      "source": "**18.** Sort `df` first by the values in the 'age' in *decending* order, then by the value in the 'visits' column in *ascending* order (so row `i` should be first, and row `d` should be last).",
      "metadata": {
        "id": "HJsZDL5oTPyL"
      }
    },
    {
      "cell_type": "code",
      "source": "df_sorted = df.sort_values(['age', 'visits'], ascending=[False, True])\nprint (df_sorted) #5min",
      "metadata": {
        "collapsed": true,
        "colab": {
          "base_uri": "https://localhost:8080/"
        },
        "id": "j4kENJpFTPyM",
        "outputId": "5a8703c2-044f-4491-f2da-99cbd78f4ca3",
        "jupyter": {
          "outputs_hidden": true
        }
      },
      "execution_count": 1412,
      "outputs": [
        {
          "output_type": "stream",
          "name": "stdout",
          "text": "  animal  age  visits priority\n\ni    dog  7.0       2       no\n\ne    dog  5.0       2       no\n\ng  snake  4.5       1       no\n\nj    dog  3.0       1       no\n\nb    cat  3.0       3      yes\n\na    cat  2.5       1      yes\n\nf    cat  1.5       3       no\n\nc  snake  0.5       2       no\n\nh    cat  NaN       1      yes\n\nd    dog  NaN       3      yes\n"
        }
      ]
    },
    {
      "cell_type": "markdown",
      "source": "**19.** The 'priority' column contains the values 'yes' and 'no'. Replace this column with a column of boolean values: 'yes' should be `True` and 'no' should be `False`.",
      "metadata": {
        "id": "STUYTkPuTPyM"
      }
    },
    {
      "cell_type": "code",
      "source": "df['priority'] = df['priority'].replace(['yes', 'no'], ['True', 'False'])\nprint (df) #20min",
      "metadata": {
        "collapsed": true,
        "colab": {
          "base_uri": "https://localhost:8080/"
        },
        "id": "5MmhY1vJTPyN",
        "outputId": "d45e01a6-44d9-4d1a-b181-5106c1e18353",
        "jupyter": {
          "outputs_hidden": true
        }
      },
      "execution_count": 1413,
      "outputs": [
        {
          "output_type": "stream",
          "name": "stdout",
          "text": "  animal  age  visits priority\n\na    cat  2.5       1     True\n\nb    cat  3.0       3     True\n\nc  snake  0.5       2    False\n\nd    dog  NaN       3     True\n\ne    dog  5.0       2    False\n\nf    cat  1.5       3    False\n\ng  snake  4.5       1    False\n\nh    cat  NaN       1     True\n\ni    dog  7.0       2    False\n\nj    dog  3.0       1    False\n"
        }
      ]
    },
    {
      "cell_type": "markdown",
      "source": "**20.** In the 'animal' column, change the 'snake' entries to 'python'.",
      "metadata": {
        "id": "20gPvbX9TPyN"
      }
    },
    {
      "cell_type": "code",
      "source": "df['animal'] = df['animal'].replace('snake', 'python')\nprint(df) #10min",
      "metadata": {
        "collapsed": true,
        "colab": {
          "base_uri": "https://localhost:8080/"
        },
        "id": "kGDSLHO5TPyN",
        "outputId": "0492d982-0a03-4648-a4da-c63bda1f3d95",
        "jupyter": {
          "outputs_hidden": true
        }
      },
      "execution_count": 1414,
      "outputs": [
        {
          "output_type": "stream",
          "name": "stdout",
          "text": "   animal  age  visits priority\n\na     cat  2.5       1     True\n\nb     cat  3.0       3     True\n\nc  python  0.5       2    False\n\nd     dog  NaN       3     True\n\ne     dog  5.0       2    False\n\nf     cat  1.5       3    False\n\ng  python  4.5       1    False\n\nh     cat  NaN       1     True\n\ni     dog  7.0       2    False\n\nj     dog  3.0       1    False\n"
        }
      ]
    },
    {
      "cell_type": "markdown",
      "source": "**21.** For each animal type and each number of visits, find the mean age. In other words, each row is an animal, each column is a number of visits and the values are the mean ages (*hint: use a pivot table*).",
      "metadata": {
        "id": "izNdiOHjTPyO"
      }
    },
    {
      "cell_type": "code",
      "source": "df_piv=pd.pivot_table(df, index=df['animal'])\nprint(df_piv) #10min",
      "metadata": {
        "colab": {
          "base_uri": "https://localhost:8080/"
        },
        "id": "ty-s1pBgTPyO",
        "outputId": "3fd296bb-a27e-406c-96d6-6cf239d0a564"
      },
      "execution_count": 1415,
      "outputs": [
        {
          "output_type": "stream",
          "name": "stdout",
          "text": "             age  visits\n\nanimal                  \n\ncat     2.333333     2.0\n\ndog     5.000000     2.0\n\npython  2.500000     1.5\n"
        }
      ]
    },
    {
      "cell_type": "markdown",
      "source": "## DataFrames: beyond the basics\n\n### Slightly trickier: you may need to combine two or more methods to get the right answer\n\nDifficulty: *medium*\n\nThe previous section was tour through some basic but essential DataFrame operations. Below are some ways that you might need to cut your data, but for which there is no single \"out of the box\" method.",
      "metadata": {
        "id": "Q-GnBv9ITPyP"
      }
    },
    {
      "cell_type": "markdown",
      "source": "**22.** You have a DataFrame `df` with a column 'A' of integers. For example:\n```python\ndf = pd.DataFrame({'A': [1, 2, 2, 3, 4, 5, 5, 5, 6, 7, 7]})\n```\n\nHow do you filter out rows which contain the same integer as the row immediately above?\n\nYou should be left with a column containing the following values:\n\n```python\n1, 2, 3, 4, 5, 6, 7\n```",
      "metadata": {
        "id": "V2CnKPB_TPyP"
      }
    },
    {
      "cell_type": "code",
      "source": "df = pd.DataFrame({'A': [1, 2, 2, 3, 4, 5, 5, 5, 6, 7, 7]})\ndf_filt = df.loc[df['A'].shift() != df['A']]\nprint(df_filt) #20min",
      "metadata": {
        "id": "4URFsP-DTPyQ",
        "colab": {
          "base_uri": "https://localhost:8080/"
        },
        "outputId": "301dbec5-600d-4a0c-8720-bba4649e12a9"
      },
      "execution_count": 1416,
      "outputs": [
        {
          "output_type": "stream",
          "name": "stdout",
          "text": "   A\n\n0  1\n\n1  2\n\n3  3\n\n4  4\n\n5  5\n\n8  6\n\n9  7\n"
        }
      ]
    },
    {
      "cell_type": "markdown",
      "source": "**23.** Given a DataFrame of numeric values, say\n```python\ndf = pd.DataFrame(np.random.random(size=(5, 3))) # a 5x3 frame of float values\n```\n\nhow do you subtract the row mean from each element in the row?",
      "metadata": {
        "id": "0ji5a0m4TPyQ"
      }
    },
    {
      "cell_type": "code",
      "source": "df = pd.DataFrame(np.random.random(size=(5, 3)))\ndf_sub = df.sub(df.mean(axis=1), axis=0)\nprint (df_sub) #20min",
      "metadata": {
        "collapsed": true,
        "id": "397gxYLPTPyQ",
        "colab": {
          "base_uri": "https://localhost:8080/"
        },
        "outputId": "e4b2480a-0d95-4b66-ef53-e9450e73cc24",
        "jupyter": {
          "outputs_hidden": true
        }
      },
      "execution_count": 1417,
      "outputs": [
        {
          "output_type": "stream",
          "name": "stdout",
          "text": "          0         1         2\n\n0 -0.025186 -0.000606  0.025792\n\n1  0.399801 -0.043536 -0.356265\n\n2  0.204901 -0.020128 -0.184774\n\n3 -0.204229  0.192870  0.011359\n\n4 -0.569243  0.339169  0.230074\n"
        }
      ]
    },
    {
      "cell_type": "markdown",
      "source": "**24.** Suppose you have DataFrame with 10 columns of real numbers, for example:\n\n```python\ndf = pd.DataFrame(np.random.random(size=(5, 10)), columns=list('abcdefghij'))\n```\nWhich column of numbers has the smallest sum?  Return that column's label.",
      "metadata": {
        "id": "i-DLtd0tTPyR"
      }
    },
    {
      "cell_type": "code",
      "source": "df = pd.DataFrame(np.random.random(size=(5, 10)), columns=list('abcdefghij'))\ncol_label = df.sum().idxmin()\nprint (col_label) #2min",
      "metadata": {
        "collapsed": true,
        "id": "QSEoWDfTTPyR",
        "colab": {
          "base_uri": "https://localhost:8080/"
        },
        "outputId": "15f00c6a-77df-4083-8e61-cb3304b1df8c",
        "jupyter": {
          "outputs_hidden": true
        }
      },
      "execution_count": 1418,
      "outputs": [
        {
          "output_type": "stream",
          "name": "stdout",
          "text": "d\n"
        }
      ]
    },
    {
      "cell_type": "markdown",
      "source": "**25.** How do you count how many unique rows a DataFrame has (i.e. ignore all rows that are duplicates)? As input, use a DataFrame of zeros and ones with 10 rows and 3 columns.\n\n```python\ndf = pd.DataFrame(np.random.randint(0, 2, size=(10, 3)))\n```",
      "metadata": {
        "id": "3Rf8rh4ATPyR"
      }
    },
    {
      "cell_type": "code",
      "source": "df = pd.DataFrame(np.random.randint(0, 2, size=(10, 3)))\nunique_rows = len(df) - df.duplicated(keep = False).sum()\nprint(unique_rows) #10min\n",
      "metadata": {
        "collapsed": true,
        "id": "eFu-9QiRTPyS",
        "colab": {
          "base_uri": "https://localhost:8080/"
        },
        "outputId": "e49f803e-5e00-4c98-82af-a363e7f8187d",
        "jupyter": {
          "outputs_hidden": true
        }
      },
      "execution_count": 1419,
      "outputs": [
        {
          "output_type": "stream",
          "name": "stdout",
          "text": "4\n"
        }
      ]
    },
    {
      "cell_type": "markdown",
      "source": "The next three puzzles are slightly harder.\n\n\n**26.** In the cell below, you have a DataFrame `df` that consists of 10 columns of floating-point numbers. Exactly 5 entries in each row are NaN values. \n\nFor each row of the DataFrame, find the *column* which contains the *third* NaN value.\n\nYou should return a Series of column labels: `e, c, d, h, d`",
      "metadata": {
        "id": "Uf4XCe2FTPyS"
      }
    },
    {
      "cell_type": "code",
      "source": "nan = np.nan\n\ndata = [[0.04,  nan,  nan, 0.25,  nan, 0.43, 0.71, 0.51,  nan,  nan],\n        [ nan,  nan,  nan, 0.04, 0.76,  nan,  nan, 0.67, 0.76, 0.16],\n        [ nan,  nan, 0.5 ,  nan, 0.31, 0.4 ,  nan,  nan, 0.24, 0.01],\n        [0.49,  nan,  nan, 0.62, 0.73, 0.26, 0.85,  nan,  nan,  nan],\n        [ nan,  nan, 0.41,  nan, 0.05,  nan, 0.61,  nan, 0.48, 0.68]]\n\ncolumns = list('abcdefghij')\n\ndf = pd.DataFrame(data, columns=columns)\n\n# write a solution to the question here\ndf_thirdNaN=(df.isnull().cumsum(axis=1) == 3).idxmax(axis=1)\nprint (df_thirdNaN) #15min\n",
      "metadata": {
        "id": "A2aVoRUbTPyT",
        "colab": {
          "base_uri": "https://localhost:8080/"
        },
        "outputId": "00030555-d240-4f0f-bc2d-886576cdd2d4"
      },
      "execution_count": 1420,
      "outputs": [
        {
          "output_type": "stream",
          "name": "stdout",
          "text": "0    e\n\n1    c\n\n2    d\n\n3    h\n\n4    d\n\ndtype: object\n"
        }
      ]
    },
    {
      "cell_type": "markdown",
      "source": "**27.** A DataFrame has a column of groups 'grps' and and column of integer values 'vals': \n\n```python\ndf = pd.DataFrame({'grps': list('aaabbcaabcccbbc'), \n                   'vals': [12,345,3,1,45,14,4,52,54,23,235,21,57,3,87]})\n```\nFor each *group*, find the sum of the three greatest values. You should end up with the answer as follows:\n```\ngrps\na    409\nb    156\nc    345\n```",
      "metadata": {
        "id": "mw946-ypTPyU"
      }
    },
    {
      "cell_type": "code",
      "source": "df = pd.DataFrame({'grps': list('aaabbcaabcccbbc'), \n                   'vals': [12,345,3,1,45,14,4,52,54,23,235,21,57,3,87]})\n\n# write a solution to the question here\ndf=df.groupby('grps')['vals'].nlargest(3).sum(level=0)\nprint(df) #15min",
      "metadata": {
        "collapsed": true,
        "id": "9lkRHvPHTPyU",
        "colab": {
          "base_uri": "https://localhost:8080/"
        },
        "outputId": "888754e7-ffe1-4f6c-9be1-02c575fd0cd3",
        "jupyter": {
          "outputs_hidden": true
        }
      },
      "execution_count": 1421,
      "outputs": [
        {
          "output_type": "stream",
          "name": "stdout",
          "text": "grps\n\na    409\n\nb    156\n\nc    345\n\nName: vals, dtype: int64\n"
        },
        {
          "output_type": "stream",
          "name": "stderr",
          "text": "/usr/local/lib/python3.7/dist-packages/ipykernel_launcher.py:5: FutureWarning: Using the level keyword in DataFrame and Series aggregations is deprecated and will be removed in a future version. Use groupby instead. df.sum(level=1) should use df.groupby(level=1).sum().\n\n  \"\"\"\n"
        }
      ]
    },
    {
      "cell_type": "markdown",
      "source": "**28.** The DataFrame `df` constructed below has two integer columns 'A' and 'B'. The values in 'A' are between 1 and 100 (inclusive). \n\nFor each group of 10 consecutive integers in 'A' (i.e. `(0, 10]`, `(10, 20]`, ...), calculate the sum of the corresponding values in column 'B'.\n\nThe answer should be a Series as follows:\n\n```\nA\n(0, 10]      635\n(10, 20]     360\n(20, 30]     315\n(30, 40]     306\n(40, 50]     750\n(50, 60]     284\n(60, 70]     424\n(70, 80]     526\n(80, 90]     835\n(90, 100]    852\n```",
      "metadata": {
        "id": "f6EfI4Z-TPyV"
      }
    },
    {
      "cell_type": "code",
      "source": "df = pd.DataFrame(np.random.RandomState(8765).randint(1, 101, size=(100, 2)), columns = [\"A\", \"B\"])\n\n# write a solution to the question here\ndf = df.groupby(pd.cut(df['A'], np.arange(0, 101, 10)))['B'].sum()\nprint(df) #20min",
      "metadata": {
        "collapsed": true,
        "id": "3EUsC0B4TPyW",
        "colab": {
          "base_uri": "https://localhost:8080/"
        },
        "outputId": "d393fdc8-40ca-45a7-d89e-b095514c36b5",
        "jupyter": {
          "outputs_hidden": true
        }
      },
      "execution_count": 1422,
      "outputs": [
        {
          "output_type": "stream",
          "name": "stdout",
          "text": "A\n\n(0, 10]      635\n\n(10, 20]     360\n\n(20, 30]     315\n\n(30, 40]     306\n\n(40, 50]     750\n\n(50, 60]     284\n\n(60, 70]     424\n\n(70, 80]     526\n\n(80, 90]     835\n\n(90, 100]    852\n\nName: B, dtype: int64\n"
        }
      ]
    },
    {
      "cell_type": "markdown",
      "source": "## DataFrames: harder problems \n\n### These might require a bit of thinking outside the box...\n\n...but all are solvable using just the usual pandas/NumPy methods (and so avoid using explicit `for` loops).\n\nDifficulty: *hard*",
      "metadata": {
        "id": "Xo9Nvt0dTPyY"
      }
    },
    {
      "cell_type": "markdown",
      "source": "**29.** Consider a DataFrame `df` where there is an integer column 'X':\n```python\ndf = pd.DataFrame({'X': [7, 2, 0, 3, 4, 2, 5, 0, 3, 4]})\n```\nFor each value, count the difference back to the previous zero (or the start of the Series, whichever is closer). These values should therefore be \n\n```\n[1, 2, 0, 1, 2, 3, 4, 0, 1, 2]\n```\n\nMake this a new column 'Y'.",
      "metadata": {
        "id": "bYt6__4rTPyZ"
      }
    },
    {
      "cell_type": "code",
      "source": "df = pd.DataFrame({'X': [7, 2, 0, 3, 4, 2, 5, 0, 3, 4]})\n\nx = (df['X'] != 0).cumsum()\ny = x != x.shift()\ndf['Y'] = y.groupby((y != y.shift()).cumsum()).cumsum()\n\nprint(df) #30min\n",
      "metadata": {
        "collapsed": true,
        "id": "5rhAZMRHTPya",
        "colab": {
          "base_uri": "https://localhost:8080/"
        },
        "outputId": "303b1fec-fb3e-4e75-c63f-30e6c9c66ac0",
        "jupyter": {
          "outputs_hidden": true
        }
      },
      "execution_count": 1423,
      "outputs": [
        {
          "output_type": "stream",
          "name": "stdout",
          "text": "   X  Y\n\n0  7  1\n\n1  2  2\n\n2  0  0\n\n3  3  1\n\n4  4  2\n\n5  2  3\n\n6  5  4\n\n7  0  0\n\n8  3  1\n\n9  4  2\n"
        }
      ]
    },
    {
      "cell_type": "markdown",
      "source": "**30.** Consider the DataFrame constructed below which contains rows and columns of numerical data. \n\nCreate a list of the column-row index locations of the 3 largest values in this DataFrame. In this case, the answer should be:\n```\n[(5, 7), (6, 4), (2, 5)]\n```",
      "metadata": {
        "id": "1Yn6eFjfTPya"
      }
    },
    {
      "cell_type": "code",
      "source": "",
      "metadata": {
        "collapsed": true,
        "id": "s9-n94pOTPyb",
        "jupyter": {
          "outputs_hidden": true
        }
      },
      "execution_count": 1423,
      "outputs": []
    },
    {
      "cell_type": "markdown",
      "source": "**31.** You are given the DataFrame below with a column of group IDs, 'grps', and a column of corresponding integer values, 'vals'.\n\n```python\ndf = pd.DataFrame({\"vals\": np.random.RandomState(31).randint(-30, 30, size=15), \n                   \"grps\": np.random.RandomState(31).choice([\"A\", \"B\"], 15)})\n```\n\nCreate a new column 'patched_values' which contains the same values as the 'vals' any negative values in 'vals' with the group mean:\n\n```\n    vals grps  patched_vals\n0    -12    A          13.6\n1     -7    B          28.0\n2    -14    A          13.6\n3      4    A           4.0\n4     -7    A          13.6\n5     28    B          28.0\n6     -2    A          13.6\n7     -1    A          13.6\n8      8    A           8.0\n9     -2    B          28.0\n10    28    A          28.0\n11    12    A          12.0\n12    16    A          16.0\n13   -24    A          13.6\n14   -12    A          13.6\n```",
      "metadata": {
        "id": "mW8f7HI5TPyb"
      }
    },
    {
      "cell_type": "code",
      "source": "",
      "metadata": {
        "collapsed": true,
        "id": "thlUL2AeTPyb",
        "jupyter": {
          "outputs_hidden": true
        }
      },
      "execution_count": 1423,
      "outputs": []
    },
    {
      "cell_type": "markdown",
      "source": "**32.** Implement a rolling mean over groups with window size 3, which ignores NaN value. For example consider the following DataFrame:\n\n```python\n>>> df = pd.DataFrame({'group': list('aabbabbbabab'),\n                       'value': [1, 2, 3, np.nan, 2, 3, np.nan, 1, 7, 3, np.nan, 8]})\n>>> df\n   group  value\n0      a    1.0\n1      a    2.0\n2      b    3.0\n3      b    NaN\n4      a    2.0\n5      b    3.0\n6      b    NaN\n7      b    1.0\n8      a    7.0\n9      b    3.0\n10     a    NaN\n11     b    8.0\n```\nThe goal is to compute the Series:\n\n```\n0     1.000000\n1     1.500000\n2     3.000000\n3     3.000000\n4     1.666667\n5     3.000000\n6     3.000000\n7     2.000000\n8     3.666667\n9     2.000000\n10    4.500000\n11    4.000000\n```\nE.g. the first window of size three for group 'b' has values 3.0, NaN and 3.0 and occurs at row index 5. Instead of being NaN the value in the new column at this row index should be 3.0 (just the two non-NaN values are used to compute the mean (3+3)/2)",
      "metadata": {
        "id": "R58AX2gITPyc"
      }
    },
    {
      "cell_type": "code",
      "source": "",
      "metadata": {
        "collapsed": true,
        "id": "Ck37ebwyTPyc",
        "jupyter": {
          "outputs_hidden": true
        }
      },
      "execution_count": 1423,
      "outputs": []
    },
    {
      "cell_type": "markdown",
      "source": "## Series and DatetimeIndex\n\n### Exercises for creating and manipulating Series with datetime data\n\nDifficulty: *easy/medium*\n\npandas is fantastic for working with dates and times. These puzzles explore some of this functionality.\n",
      "metadata": {
        "id": "YbLF7R4FTPyd"
      }
    },
    {
      "cell_type": "markdown",
      "source": "**33.** Create a DatetimeIndex that contains each business day of 2015 and use it to index a Series of random numbers. Let's call this Series `s`.",
      "metadata": {
        "id": "QXPdCOlLTPyd"
      }
    },
    {
      "cell_type": "code",
      "source": "dti = pd.date_range(start='2015-01-01', end='2015-12-31', freq='B') \ns = pd.Series(np.random.rand(len(dti)), index=dti)\nprint(s) #15min",
      "metadata": {
        "collapsed": true,
        "id": "kJR02oZITPyd",
        "colab": {
          "base_uri": "https://localhost:8080/"
        },
        "outputId": "b2127da8-daea-47c3-a677-fa295d41c704",
        "jupyter": {
          "outputs_hidden": true
        }
      },
      "execution_count": 1424,
      "outputs": [
        {
          "output_type": "stream",
          "name": "stdout",
          "text": "2015-01-01    0.409074\n\n2015-01-02    0.978121\n\n2015-01-05    0.566613\n\n2015-01-06    0.058111\n\n2015-01-07    0.512211\n\n                ...   \n\n2015-12-25    0.576461\n\n2015-12-28    0.224682\n\n2015-12-29    0.430470\n\n2015-12-30    0.946864\n\n2015-12-31    0.457968\n\nFreq: B, Length: 261, dtype: float64\n"
        }
      ]
    },
    {
      "cell_type": "markdown",
      "source": "**34.** Find the sum of the values in `s` for every Wednesday.",
      "metadata": {
        "id": "NhseQyFsTPye"
      }
    },
    {
      "cell_type": "code",
      "source": "sum = s[s.index.weekday == 2].sum()\nprint(sum) #5min",
      "metadata": {
        "collapsed": true,
        "id": "kAuWRD4KTPye",
        "colab": {
          "base_uri": "https://localhost:8080/"
        },
        "outputId": "65affc00-99f1-4f5b-dada-5db8a7f8124d",
        "jupyter": {
          "outputs_hidden": true
        }
      },
      "execution_count": 1425,
      "outputs": [
        {
          "output_type": "stream",
          "name": "stdout",
          "text": "26.695687888737183\n"
        }
      ]
    },
    {
      "cell_type": "markdown",
      "source": "**35.** For each calendar month in `s`, find the mean of values.",
      "metadata": {
        "id": "sXbhM_hPTPye"
      }
    },
    {
      "cell_type": "code",
      "source": "mean_vals = s.resample('M').mean()\nprint(mean_vals) #5min",
      "metadata": {
        "collapsed": true,
        "id": "_nQCJt8wTPye",
        "colab": {
          "base_uri": "https://localhost:8080/"
        },
        "outputId": "b9473580-7586-4ed9-acb6-702c113add18",
        "jupyter": {
          "outputs_hidden": true
        }
      },
      "execution_count": 1426,
      "outputs": [
        {
          "output_type": "stream",
          "name": "stdout",
          "text": "2015-01-31    0.559769\n\n2015-02-28    0.472341\n\n2015-03-31    0.538845\n\n2015-04-30    0.506323\n\n2015-05-31    0.489136\n\n2015-06-30    0.414893\n\n2015-07-31    0.473189\n\n2015-08-31    0.511495\n\n2015-09-30    0.507998\n\n2015-10-31    0.562078\n\n2015-11-30    0.531517\n\n2015-12-31    0.547604\n\nFreq: M, dtype: float64\n"
        }
      ]
    },
    {
      "cell_type": "markdown",
      "source": "**36.** For each group of four consecutive calendar months in `s`, find the date on which the highest value occurred.",
      "metadata": {
        "id": "Qbd3zhkaTPyf"
      }
    },
    {
      "cell_type": "code",
      "source": "mean_val = s.resample('M').mean()\nprint(mean_val) #5min",
      "metadata": {
        "collapsed": true,
        "id": "w7KCXA0kTPyf",
        "colab": {
          "base_uri": "https://localhost:8080/"
        },
        "outputId": "6c0da8ab-b798-4513-ebf4-09e9ffccc15e",
        "jupyter": {
          "outputs_hidden": true
        }
      },
      "execution_count": 1427,
      "outputs": [
        {
          "output_type": "stream",
          "name": "stdout",
          "text": "2015-01-31    0.559769\n\n2015-02-28    0.472341\n\n2015-03-31    0.538845\n\n2015-04-30    0.506323\n\n2015-05-31    0.489136\n\n2015-06-30    0.414893\n\n2015-07-31    0.473189\n\n2015-08-31    0.511495\n\n2015-09-30    0.507998\n\n2015-10-31    0.562078\n\n2015-11-30    0.531517\n\n2015-12-31    0.547604\n\nFreq: M, dtype: float64\n"
        }
      ]
    },
    {
      "cell_type": "markdown",
      "source": "**37.** Create a DateTimeIndex consisting of the third Thursday in each month for the years 2015 and 2016.",
      "metadata": {
        "id": "o6Pfp1o6TPyf"
      }
    },
    {
      "cell_type": "code",
      "source": "idx = pd.date_range('2015-01-01', '2016-12-31', freq='WOM-3THU')\nprint(idx) #10min",
      "metadata": {
        "collapsed": true,
        "id": "TgwmFGtWTPyg",
        "colab": {
          "base_uri": "https://localhost:8080/"
        },
        "outputId": "21ea1874-e483-47aa-d820-e8f9cc8a0e0b",
        "jupyter": {
          "outputs_hidden": true
        }
      },
      "execution_count": 1428,
      "outputs": [
        {
          "output_type": "stream",
          "name": "stdout",
          "text": "DatetimeIndex(['2015-01-15', '2015-02-19', '2015-03-19', '2015-04-16',\n\n               '2015-05-21', '2015-06-18', '2015-07-16', '2015-08-20',\n\n               '2015-09-17', '2015-10-15', '2015-11-19', '2015-12-17',\n\n               '2016-01-21', '2016-02-18', '2016-03-17', '2016-04-21',\n\n               '2016-05-19', '2016-06-16', '2016-07-21', '2016-08-18',\n\n               '2016-09-15', '2016-10-20', '2016-11-17', '2016-12-15'],\n\n              dtype='datetime64[ns]', freq='WOM-3THU')\n"
        }
      ]
    },
    {
      "cell_type": "markdown",
      "source": "## Cleaning Data\n\n### Making a DataFrame easier to work with\n\nDifficulty: *easy/medium*\n\nIt happens all the time: someone gives you data containing malformed strings, Python, lists and missing data. How do you tidy it up so you can get on with the analysis?\n\nTake this monstrosity as the DataFrame to use in the following puzzles:\n\n```python\ndf = pd.DataFrame({'From_To': ['LoNDon_paris', 'MAdrid_miLAN', 'londON_StockhOlm', \n                               'Budapest_PaRis', 'Brussels_londOn'],\n              'FlightNumber': [10045, np.nan, 10065, np.nan, 10085],\n              'RecentDelays': [[23, 47], [], [24, 43, 87], [13], [67, 32]],\n                   'Airline': ['KLM(!)', '<Air France> (12)', '(British Airways. )', \n                               '12. Air France', '\"Swiss Air\"']})\n```\nFormatted, it looks like this:\n\n```\n            From_To  FlightNumber  RecentDelays              Airline\n0      LoNDon_paris       10045.0      [23, 47]               KLM(!)\n1      MAdrid_miLAN           NaN            []    <Air France> (12)\n2  londON_StockhOlm       10065.0  [24, 43, 87]  (British Airways. )\n3    Budapest_PaRis           NaN          [13]       12. Air France\n4   Brussels_londOn       10085.0      [67, 32]          \"Swiss Air\"\n```\n\n\n(It's some flight data I made up; it's not meant to be accurate in any way.)\n",
      "metadata": {
        "id": "hkKVDpUYTPyg"
      }
    },
    {
      "cell_type": "markdown",
      "source": "**38.** Some values in the the **FlightNumber** column are missing (they are `NaN`). These numbers are meant to increase by 10 with each row so 10055 and 10075 need to be put in place. Modify `df` to fill in these missing numbers and make the column an integer column (instead of a float column).",
      "metadata": {
        "id": "vCvte_TxTPyh"
      }
    },
    {
      "cell_type": "code",
      "source": "df = pd.DataFrame({'From_To': ['LoNDon_paris', 'MAdrid_miLAN', 'londON_StockhOlm', \n                               'Budapest_PaRis', 'Brussels_londOn'],\n              'FlightNumber': [10045, np.nan, 10065, np.nan, 10085],\n              'RecentDelays': [[23, 47], [], [24, 43, 87], [13], [67, 32]],\n                   'Airline': ['KLM(!)', '<Air France> (12)', '(British Airways. )', \n                               '12. Air France', '\"Swiss Air\"']})\n\ndf['FlightNumber'] = df['FlightNumber'].interpolate().astype(int)\nprint(df['FlightNumber'])  #15min",
      "metadata": {
        "collapsed": true,
        "id": "lpn9iiWMTPyh",
        "colab": {
          "base_uri": "https://localhost:8080/"
        },
        "outputId": "f5ba8bd5-b130-4920-803a-482b9bdfe2fa",
        "jupyter": {
          "outputs_hidden": true
        }
      },
      "execution_count": 1429,
      "outputs": [
        {
          "output_type": "stream",
          "name": "stdout",
          "text": "0    10045\n\n1    10055\n\n2    10065\n\n3    10075\n\n4    10085\n\nName: FlightNumber, dtype: int64\n"
        }
      ]
    },
    {
      "cell_type": "markdown",
      "source": "**39.** The **From\\_To** column would be better as two separate columns! Split each string on the underscore delimiter `_` to give a new temporary DataFrame called 'temp' with the correct values. Assign the correct column names 'From' and 'To' to this temporary DataFrame. ",
      "metadata": {
        "id": "NcLKV-CtTPyi"
      }
    },
    {
      "cell_type": "code",
      "source": "temp = df.From_To.str.split('_', expand=True)\ntemp.columns = ['From', 'To']\nprint(temp)   #5min",
      "metadata": {
        "collapsed": true,
        "id": "dKXcDgVwTPyi",
        "colab": {
          "base_uri": "https://localhost:8080/"
        },
        "outputId": "6a625316-7317-453f-f189-524b8c300f81",
        "jupyter": {
          "outputs_hidden": true
        }
      },
      "execution_count": 1430,
      "outputs": [
        {
          "output_type": "stream",
          "name": "stdout",
          "text": "       From         To\n\n0    LoNDon      paris\n\n1    MAdrid      miLAN\n\n2    londON  StockhOlm\n\n3  Budapest      PaRis\n\n4  Brussels     londOn\n"
        }
      ]
    },
    {
      "cell_type": "markdown",
      "source": "**40.** Notice how the capitalisation of the city names is all mixed up in this temporary DataFrame 'temp'. Standardise the strings so that only the first letter is uppercase (e.g. \"londON\" should become \"London\".)",
      "metadata": {
        "id": "wCWdlGITTPyi"
      }
    },
    {
      "cell_type": "code",
      "source": "temp['From'] = temp['From'].str.capitalize()\ntemp['To'] = temp['To'].str.capitalize()\nprint(temp)   #5min",
      "metadata": {
        "collapsed": true,
        "id": "URs9oWkjTPyj",
        "colab": {
          "base_uri": "https://localhost:8080/"
        },
        "outputId": "4b16082e-b673-49d7-f9c6-fa59774ca606",
        "jupyter": {
          "outputs_hidden": true
        }
      },
      "execution_count": 1431,
      "outputs": [
        {
          "output_type": "stream",
          "name": "stdout",
          "text": "       From         To\n\n0    London      Paris\n\n1    Madrid      Milan\n\n2    London  Stockholm\n\n3  Budapest      Paris\n\n4  Brussels     London\n"
        }
      ]
    },
    {
      "cell_type": "markdown",
      "source": "**41.** Delete the **From_To** column from `df` and attach the temporary DataFrame 'temp' from the previous questions.",
      "metadata": {
        "id": "w8sXD5GTTPyj"
      }
    },
    {
      "cell_type": "code",
      "source": "df = df.drop('From_To', axis=1)\ndf = df.join(temp)\nprint(df)    #5min",
      "metadata": {
        "collapsed": true,
        "id": "6IVSOGkpTPyj",
        "colab": {
          "base_uri": "https://localhost:8080/"
        },
        "outputId": "b5a77f6d-807d-457d-e3a0-f5a6a271a5f5",
        "jupyter": {
          "outputs_hidden": true
        }
      },
      "execution_count": 1432,
      "outputs": [
        {
          "output_type": "stream",
          "name": "stdout",
          "text": "   FlightNumber  RecentDelays              Airline      From         To\n\n0         10045      [23, 47]               KLM(!)    London      Paris\n\n1         10055            []    <Air France> (12)    Madrid      Milan\n\n2         10065  [24, 43, 87]  (British Airways. )    London  Stockholm\n\n3         10075          [13]       12. Air France  Budapest      Paris\n\n4         10085      [67, 32]          \"Swiss Air\"  Brussels     London\n"
        }
      ]
    },
    {
      "cell_type": "markdown",
      "source": "**42**. In the **Airline** column, you can see some extra puctuation and symbols have appeared around the airline names. Pull out just the airline name. E.g. `'(British Airways. )'` should become `'British Airways'`.",
      "metadata": {
        "id": "b4dEn7mFTPyk"
      }
    },
    {
      "cell_type": "code",
      "source": "df['Airline'] = df['Airline'].str.extract('([a-zA-Z\\s]+)', expand=False).str.strip()\nprint(df['Airline'])  #20min",
      "metadata": {
        "collapsed": true,
        "id": "cvE-jYqzTPyk",
        "colab": {
          "base_uri": "https://localhost:8080/"
        },
        "outputId": "667573f9-8d2d-4dfd-c8e7-f5bb192d5aa1",
        "jupyter": {
          "outputs_hidden": true
        }
      },
      "execution_count": 1433,
      "outputs": [
        {
          "output_type": "stream",
          "name": "stdout",
          "text": "0                KLM\n\n1         Air France\n\n2    British Airways\n\n3         Air France\n\n4          Swiss Air\n\nName: Airline, dtype: object\n"
        }
      ]
    },
    {
      "cell_type": "markdown",
      "source": "**43**. In the RecentDelays column, the values have been entered into the DataFrame as a list. We would like each first value in its own column, each second value in its own column, and so on. If there isn't an Nth value, the value should be NaN.\n\nExpand the Series of lists into a DataFrame named `delays`, rename the columns `delay_1`, `delay_2`, etc. and replace the unwanted RecentDelays column in `df` with `delays`.",
      "metadata": {
        "id": "APw-rFVGTPyk"
      }
    },
    {
      "cell_type": "code",
      "source": "delays = df['RecentDelays'].apply(pd.Series)\ndelays.columns = ['delay_{}'.format(n) for n in range(1, len(delays.columns)+1)]\ndf = df.drop('RecentDelays', axis=1).join(delays)\nprint(df)  #30min",
      "metadata": {
        "collapsed": true,
        "id": "AcdgdgVWTPyl",
        "colab": {
          "base_uri": "https://localhost:8080/"
        },
        "outputId": "73d9e80a-9a01-4c60-b558-51084315456b",
        "jupyter": {
          "outputs_hidden": true
        }
      },
      "execution_count": 1434,
      "outputs": [
        {
          "output_type": "stream",
          "name": "stdout",
          "text": "   FlightNumber          Airline      From         To  delay_1  delay_2  \\\n\n0         10045              KLM    London      Paris     23.0     47.0   \n\n1         10055       Air France    Madrid      Milan      NaN      NaN   \n\n2         10065  British Airways    London  Stockholm     24.0     43.0   \n\n3         10075       Air France  Budapest      Paris     13.0      NaN   \n\n4         10085        Swiss Air  Brussels     London     67.0     32.0   \n\n\n\n   delay_3  \n\n0      NaN  \n\n1      NaN  \n\n2     87.0  \n\n3      NaN  \n\n4      NaN  \n"
        }
      ]
    },
    {
      "cell_type": "markdown",
      "source": "The DataFrame should look much better now.\n```\n   FlightNumber          Airline      From         To  delay_1  delay_2  delay_3\n0         10045              KLM    London      Paris     23.0     47.0      NaN\n1         10055       Air France    Madrid      Milan      NaN      NaN      NaN\n2         10065  British Airways    London  Stockholm     24.0     43.0     87.0\n3         10075       Air France  Budapest      Paris     13.0      NaN      NaN\n4         10085        Swiss Air  Brussels     London     67.0     32.0      NaN\n```",
      "metadata": {
        "id": "_DGOBkUYTPyl"
      }
    },
    {
      "cell_type": "markdown",
      "source": "## Using MultiIndexes\n\n### Go beyond flat DataFrames with additional index levels\n\nDifficulty: *medium*\n\nPrevious exercises have seen us analysing data from DataFrames equipped with a single index level. However, pandas also gives you the possibilty of indexing your data using *multiple* levels. This is very much like adding new dimensions to a Series or a DataFrame. For example, a Series is 1D, but by using a MultiIndex with 2 levels we gain of much the same functionality as a 2D DataFrame.\n\nThe set of puzzles below explores how you might use multiple index levels to enhance data analysis.\n\nTo warm up, we'll look make a Series with two index levels. ",
      "metadata": {
        "id": "ruFAKqLVTPym"
      }
    },
    {
      "cell_type": "markdown",
      "source": "**44**. Given the lists `letters = ['A', 'B', 'C']` and `numbers = list(range(10))`, construct a MultiIndex object from the product of the two lists. Use it to index a Series of random numbers. Call this Series `s`.",
      "metadata": {
        "id": "aqLgeEKsTPyo"
      }
    },
    {
      "cell_type": "code",
      "source": "import pandas as pd\n\nletters = ['A', 'B', 'C']\nnumbers = list(range(10))\n\nmulti_idx = pd.MultiIndex.from_product([letters, numbers])\ns = pd.Series(np.random.rand(30), index=multi_idx)\nprint(s) #20min",
      "metadata": {
        "collapsed": true,
        "id": "d1T18CHKTPyo",
        "colab": {
          "base_uri": "https://localhost:8080/"
        },
        "outputId": "eebfa1e3-2098-4699-9f9d-a2ba88bc58ae",
        "jupyter": {
          "outputs_hidden": true
        }
      },
      "execution_count": 1435,
      "outputs": [
        {
          "output_type": "stream",
          "name": "stdout",
          "text": "A  0    0.140618\n\n   1    0.687915\n\n   2    0.111853\n\n   3    0.636129\n\n   4    0.588547\n\n   5    0.189700\n\n   6    0.888148\n\n   7    0.068398\n\n   8    0.056247\n\n   9    0.771034\n\nB  0    0.067540\n\n   1    0.932084\n\n   2    0.619941\n\n   3    0.803332\n\n   4    0.610752\n\n   5    0.276955\n\n   6    0.467640\n\n   7    0.148595\n\n   8    0.813688\n\n   9    0.967769\n\nC  0    0.205735\n\n   1    0.726326\n\n   2    0.230221\n\n   3    0.055780\n\n   4    0.440057\n\n   5    0.626687\n\n   6    0.230927\n\n   7    0.747400\n\n   8    0.092317\n\n   9    0.120675\n\ndtype: float64\n"
        }
      ]
    },
    {
      "cell_type": "markdown",
      "source": "**45.** Check the index of `s` is lexicographically sorted (this is a necessary proprty for indexing to work correctly with a MultiIndex).",
      "metadata": {
        "id": "WEsutbkATPyp"
      }
    },
    {
      "cell_type": "code",
      "source": "statement = s.index.is_lexsorted()\nprint(statement)",
      "metadata": {
        "collapsed": true,
        "id": "wYXIt9H_TPyp",
        "colab": {
          "base_uri": "https://localhost:8080/"
        },
        "outputId": "33bfd25a-d3ad-4bb4-8ab8-4f96ff495019",
        "jupyter": {
          "outputs_hidden": true
        }
      },
      "execution_count": 1436,
      "outputs": [
        {
          "output_type": "stream",
          "name": "stdout",
          "text": "True\n"
        },
        {
          "output_type": "stream",
          "name": "stderr",
          "text": "/usr/local/lib/python3.7/dist-packages/ipykernel_launcher.py:1: FutureWarning: MultiIndex.is_lexsorted is deprecated as a public function, users should use MultiIndex.is_monotonic_increasing instead.\n\n  \"\"\"Entry point for launching an IPython kernel.\n"
        }
      ]
    },
    {
      "cell_type": "markdown",
      "source": "**46**. Select the labels `1`, `3` and `6` from the second level of the MultiIndexed Series.",
      "metadata": {
        "id": "RwBV7iKwTPyq"
      }
    },
    {
      "cell_type": "code",
      "source": "sel_indices = s.loc[:, [1, 3, 6]]\nprint (sel_indices) #10min",
      "metadata": {
        "collapsed": true,
        "id": "M63TeTO5TPyq",
        "colab": {
          "base_uri": "https://localhost:8080/"
        },
        "outputId": "b465e125-6633-4c8a-c004-3dae611b476d",
        "jupyter": {
          "outputs_hidden": true
        }
      },
      "execution_count": 1437,
      "outputs": [
        {
          "output_type": "stream",
          "name": "stdout",
          "text": "A  1    0.687915\n\n   3    0.636129\n\n   6    0.888148\n\nB  1    0.932084\n\n   3    0.803332\n\n   6    0.467640\n\nC  1    0.726326\n\n   3    0.055780\n\n   6    0.230927\n\ndtype: float64\n"
        }
      ]
    },
    {
      "cell_type": "markdown",
      "source": "**47**. Slice the Series `s`; slice up to label 'B' for the first level and from label 5 onwards for the second level.",
      "metadata": {
        "id": "dXCFciyjTPyr"
      }
    },
    {
      "cell_type": "code",
      "source": "sliced_indices = s.loc[pd.IndexSlice[:'B', 5:]]\nprint (sliced_indices)  #15min",
      "metadata": {
        "collapsed": true,
        "id": "vqNEGZcdTPyr",
        "colab": {
          "base_uri": "https://localhost:8080/"
        },
        "outputId": "6d784ae5-130b-4a64-8bde-c22082397dcf",
        "jupyter": {
          "outputs_hidden": true
        }
      },
      "execution_count": 1438,
      "outputs": [
        {
          "output_type": "stream",
          "name": "stdout",
          "text": "A  5    0.189700\n\n   6    0.888148\n\n   7    0.068398\n\n   8    0.056247\n\n   9    0.771034\n\nB  5    0.276955\n\n   6    0.467640\n\n   7    0.148595\n\n   8    0.813688\n\n   9    0.967769\n\ndtype: float64\n"
        }
      ]
    },
    {
      "cell_type": "markdown",
      "source": "**48**. Sum the values in `s` for each label in the first level (you should have Series giving you a total for labels A, B and C).",
      "metadata": {
        "id": "wPhpEmv1TPyr"
      }
    },
    {
      "cell_type": "code",
      "source": "sum_indices_lev0 = s.sum(level=0)\nprint(sum_indices_lev0)  #15min",
      "metadata": {
        "collapsed": true,
        "id": "EpvOS3cMTPys",
        "colab": {
          "base_uri": "https://localhost:8080/"
        },
        "outputId": "a9490c55-a2c7-4843-9b7c-4b8a92aa2b39",
        "jupyter": {
          "outputs_hidden": true
        }
      },
      "execution_count": 1439,
      "outputs": [
        {
          "output_type": "stream",
          "name": "stdout",
          "text": "A    4.138590\n\nB    5.708295\n\nC    3.476123\n\ndtype: float64\n"
        },
        {
          "output_type": "stream",
          "name": "stderr",
          "text": "/usr/local/lib/python3.7/dist-packages/ipykernel_launcher.py:1: FutureWarning: Using the level keyword in DataFrame and Series aggregations is deprecated and will be removed in a future version. Use groupby instead. df.sum(level=1) should use df.groupby(level=1).sum().\n\n  \"\"\"Entry point for launching an IPython kernel.\n"
        }
      ]
    },
    {
      "cell_type": "markdown",
      "source": "**49**. Suppose that `sum()` (and other methods) did not accept a `level` keyword argument. How else could you perform the equivalent of `s.sum(level=1)`?",
      "metadata": {
        "id": "Olbx6rV4TPys"
      }
    },
    {
      "cell_type": "code",
      "source": "sum_indices_lev1 = s.unstack().sum(axis=0)\nprint(sum_indices_lev1) #15min",
      "metadata": {
        "collapsed": true,
        "id": "UuYKDP5GTPyt",
        "colab": {
          "base_uri": "https://localhost:8080/"
        },
        "outputId": "ba08c563-d45d-4550-b649-d7f74b3ea419",
        "jupyter": {
          "outputs_hidden": true
        }
      },
      "execution_count": 1440,
      "outputs": [
        {
          "output_type": "stream",
          "name": "stdout",
          "text": "0    0.413893\n\n1    2.346325\n\n2    0.962015\n\n3    1.495240\n\n4    1.639356\n\n5    1.093342\n\n6    1.586714\n\n7    0.964393\n\n8    0.962252\n\n9    1.859477\n\ndtype: float64\n"
        }
      ]
    },
    {
      "cell_type": "markdown",
      "source": "**50**. Exchange the levels of the MultiIndex so we have an index of the form (letters, numbers). Is this new Series properly lexsorted? If not, sort it.",
      "metadata": {
        "id": "A8smIHw3TPyt"
      }
    },
    {
      "cell_type": "code",
      "source": "new_s = s.swaplevel(0, 1)\n#is lexsorted?\nis_lexsorted = new_s.index.is_lexsorted()\nprint(is_lexsorted)\n#sort it \nnew_s = new_s.sort_index()\n\nprint(new_s) #15min",
      "metadata": {
        "id": "a3G34x8OTPyt",
        "colab": {
          "base_uri": "https://localhost:8080/"
        },
        "outputId": "e7d14196-e427-4e6e-a890-daff36de32b0"
      },
      "execution_count": 1441,
      "outputs": [
        {
          "output_type": "stream",
          "name": "stdout",
          "text": "False\n\n0  A    0.140618\n\n   B    0.067540\n\n   C    0.205735\n\n1  A    0.687915\n\n   B    0.932084\n\n   C    0.726326\n\n2  A    0.111853\n\n   B    0.619941\n\n   C    0.230221\n\n3  A    0.636129\n\n   B    0.803332\n\n   C    0.055780\n\n4  A    0.588547\n\n   B    0.610752\n\n   C    0.440057\n\n5  A    0.189700\n\n   B    0.276955\n\n   C    0.626687\n\n6  A    0.888148\n\n   B    0.467640\n\n   C    0.230927\n\n7  A    0.068398\n\n   B    0.148595\n\n   C    0.747400\n\n8  A    0.056247\n\n   B    0.813688\n\n   C    0.092317\n\n9  A    0.771034\n\n   B    0.967769\n\n   C    0.120675\n\ndtype: float64\n"
        },
        {
          "output_type": "stream",
          "name": "stderr",
          "text": "/usr/local/lib/python3.7/dist-packages/ipykernel_launcher.py:3: FutureWarning: MultiIndex.is_lexsorted is deprecated as a public function, users should use MultiIndex.is_monotonic_increasing instead.\n\n  This is separate from the ipykernel package so we can avoid doing imports until\n"
        }
      ]
    },
    {
      "cell_type": "markdown",
      "source": "## Minesweeper\n\n### Generate the numbers for safe squares in a Minesweeper grid\n\nDifficulty: *medium* to *hard*\n\nIf you've ever used an older version of Windows, there's a good chance you've played with Minesweeper:\n- https://en.wikipedia.org/wiki/Minesweeper_(video_game)\n\n\nIf you're not familiar with the game, imagine a grid of squares: some of these squares conceal a mine. If you click on a mine, you lose instantly. If you click on a safe square, you reveal a number telling you how many mines are found in the squares that are immediately adjacent. The aim of the game is to uncover all squares in the grid that do not contain a mine.\n\nIn this section, we'll make a DataFrame that contains the necessary data for a game of Minesweeper: coordinates of the squares, whether the square contains a mine and the number of mines found on adjacent squares.",
      "metadata": {
        "id": "ThAUs1zVTPyu"
      }
    },
    {
      "cell_type": "markdown",
      "source": "**51**. Let's suppose we're playing Minesweeper on a 5 by 4 grid, i.e.\n```\nX = 5\nY = 4\n```\nTo begin, generate a DataFrame `df` with two columns, `'x'` and `'y'` containing every coordinate for this grid. That is, the DataFrame should start:\n```\n   x  y\n0  0  0\n1  0  1\n2  0  2\n```",
      "metadata": {
        "id": "2Gv1hwZOTPyu"
      }
    },
    {
      "cell_type": "code",
      "source": "import pandas as pd\n# Dataframe as a response to the question above df.shape() = (3, 2)\ndf = pd.DataFrame({'x': [0, 0, 0], 'y': [0, 1, 2]})\nprint (df.shape)\n#Actual Dataframe is a grid with X=5, Y=4, meaning (x = [0, 1, 2, 3, 4]), (y = [0, 1, 2, 3]) which leads to a list of tuples  (x, y) like this:\n\ncoord_lst = [(0,0), (1, 0), (2, 0), (3, 0), (4, 0), (0, 1), (1, 1), (2, 1), (3, 1), (4, 1), (0, 2), (1, 2), (2, 2), (3, 2), (4, 2), (0, 3), (1, 3), (2, 3), (3, 3), (4, 3)]\nX = [0, 1, 2, 3, 4, 0, 1, 2, 3, 4, 0, 1, 2, 3, 4, 0, 1, 2, 3, 4]\nY = [0, 0, 0, 0, 0, 1, 1, 1, 1, 1, 2, 2, 2, 2, 2, 3, 3, 3, 3, 3]\ndf = pd.DataFrame({'X': X,'Y':Y}) #df.size = 5*4 = 20\nprint (df) #30min",
      "metadata": {
        "collapsed": true,
        "id": "NrirHn3iTPyv",
        "colab": {
          "base_uri": "https://localhost:8080/"
        },
        "outputId": "1da55580-3dae-4e0f-9957-9d5ec32ef882",
        "jupyter": {
          "outputs_hidden": true
        }
      },
      "execution_count": 1442,
      "outputs": [
        {
          "output_type": "stream",
          "name": "stdout",
          "text": "(3, 2)\n\n    X  Y\n\n0   0  0\n\n1   1  0\n\n2   2  0\n\n3   3  0\n\n4   4  0\n\n5   0  1\n\n6   1  1\n\n7   2  1\n\n8   3  1\n\n9   4  1\n\n10  0  2\n\n11  1  2\n\n12  2  2\n\n13  3  2\n\n14  4  2\n\n15  0  3\n\n16  1  3\n\n17  2  3\n\n18  3  3\n\n19  4  3\n"
        }
      ]
    },
    {
      "cell_type": "markdown",
      "source": "**52**. For this DataFrame `df`, create a new column of zeros (safe) and ones (mine). The probability of a mine occuring at each location should be 0.4.",
      "metadata": {
        "id": "yb4TyvYPTPyv"
      }
    },
    {
      "cell_type": "code",
      "source": "#initially all points are safe (we don't know where mines are) and prob_mine = 0.4 for all safe points. Additionally, we create a list 'mine' were 1 means there is a mine, 0 = no mine\ndf_state_0 = df.assign(safe = [0]*20, mine = [0, 0, 1, 0, 1, 0, 0, 0, 1, 1, 0, 0, 1, 0, 1, 0, 0, 1, 0, 1], prob_mine = [0.4]*20) #initial state of the grid\nprint(df_state_0) #30min",
      "metadata": {
        "collapsed": true,
        "id": "reSr3tnZTPyw",
        "colab": {
          "base_uri": "https://localhost:8080/"
        },
        "outputId": "6b4baa06-d5e3-498b-fe75-04c6d898aefa",
        "jupyter": {
          "outputs_hidden": true
        }
      },
      "execution_count": 1443,
      "outputs": [
        {
          "output_type": "stream",
          "name": "stdout",
          "text": "    X  Y  safe  mine  prob_mine\n\n0   0  0     0     0        0.4\n\n1   1  0     0     0        0.4\n\n2   2  0     0     1        0.4\n\n3   3  0     0     0        0.4\n\n4   4  0     0     1        0.4\n\n5   0  1     0     0        0.4\n\n6   1  1     0     0        0.4\n\n7   2  1     0     0        0.4\n\n8   3  1     0     1        0.4\n\n9   4  1     0     1        0.4\n\n10  0  2     0     0        0.4\n\n11  1  2     0     0        0.4\n\n12  2  2     0     1        0.4\n\n13  3  2     0     0        0.4\n\n14  4  2     0     1        0.4\n\n15  0  3     0     0        0.4\n\n16  1  3     0     0        0.4\n\n17  2  3     0     1        0.4\n\n18  3  3     0     0        0.4\n\n19  4  3     0     1        0.4\n"
        }
      ]
    },
    {
      "cell_type": "markdown",
      "source": "**53**. Now create a new column for this DataFrame called `'adjacent'`. This column should contain the number of mines found on adjacent squares in the grid. \n\n(E.g. for the first row, which is the entry for the coordinate `(0, 0)`, count how many mines are found on the coordinates `(0, 1)`, `(1, 0)` and `(1, 1)`.)",
      "metadata": {
        "id": "Levnfqi9TPyw"
      }
    },
    {
      "cell_type": "code",
      "source": "#Initial game model\n#column 'adjacent' is dynamic, it holds the transformation of the grid as we progressivelly reveal more mines(mine =1 for the  respective coordinate, \n#safe=1(no longer safe) and prob_mine =1-definitely there is a mine there) or when we enter the final catastrophic state\n#when we step on a mine, case in which entire column 'safe' becomes 1, mine' becomes 1, 'prob_mine' becomes 1 and for which game is over with a LOSS\n#(final state with LOSS, FSL)\n#Game also enters the final state with WIN (FSW) when we manage to reveal all dangerous places in the grid, using the mechanisms of the game and the succesive\n#changes/transitions described above, without entering the FSL, that is transitioning succesfully to either one of the following states described below:\n#MP(safe =>(0->1), mine =>(0->1), prob_mine => (0.4->1)) (mine presence MP) or MA(safe => (0->0), mine => (0->0), prob_mine => (0.4->0)) (mine absence MA)\n\n#So FSW is our DataFrame with rows of types (0, 0, 0) or (1, 1, 1) for the columns [safe, mine, prob_mine] and \n#FWL is our DataFrame with all rows of types (1, 1, 1) for the columns [safe, mine, prob_mine]\n\n#Counting the mines in each row on 'adjacent' column, means to calculate sum() over all the adjacent coordinates for which we have a modified state\n#Marginal coordinates (of type (0, y) or (x, 0), a formation of _|_) have only 3 neighbours for which we need to calculate the sum, whereas \n#inner coordinates have 4 neighbours of type (x, y) with x != 0, y !=0, making a cross like formation, have 4 neighbours for which we need to calculate the sum\n# We create 2 criteria for filtering the pairs of coordinates of df, accordingly:\n# Initially, we'll populate this column with zeros.\ndf_state_0 = df_state_0.assign(adjacent = [0]*20)\nprint(df_state_0) #120min",
      "metadata": {
        "collapsed": true,
        "id": "srxyokUETPyx",
        "colab": {
          "base_uri": "https://localhost:8080/"
        },
        "outputId": "fc27d93a-0c4b-4b9a-9315-273d59dc616d",
        "jupyter": {
          "outputs_hidden": true
        }
      },
      "execution_count": 1444,
      "outputs": [
        {
          "output_type": "stream",
          "name": "stdout",
          "text": "    X  Y  safe  mine  prob_mine  adjacent\n\n0   0  0     0     0        0.4         0\n\n1   1  0     0     0        0.4         0\n\n2   2  0     0     1        0.4         0\n\n3   3  0     0     0        0.4         0\n\n4   4  0     0     1        0.4         0\n\n5   0  1     0     0        0.4         0\n\n6   1  1     0     0        0.4         0\n\n7   2  1     0     0        0.4         0\n\n8   3  1     0     1        0.4         0\n\n9   4  1     0     1        0.4         0\n\n10  0  2     0     0        0.4         0\n\n11  1  2     0     0        0.4         0\n\n12  2  2     0     1        0.4         0\n\n13  3  2     0     0        0.4         0\n\n14  4  2     0     1        0.4         0\n\n15  0  3     0     0        0.4         0\n\n16  1  3     0     0        0.4         0\n\n17  2  3     0     1        0.4         0\n\n18  3  3     0     0        0.4         0\n\n19  4  3     0     1        0.4         0\n"
        }
      ]
    },
    {
      "cell_type": "markdown",
      "source": "**54**. For rows of the DataFrame that contain a mine, set the value in the `'adjacent'` column to NaN.",
      "metadata": {
        "id": "tRswAjslTPyx"
      }
    },
    {
      "cell_type": "code",
      "source": "df_state_0.loc[df_state_0['mine']==1, 'adjacent'] = np.nan\n\nprint(df_state_0) #30min",
      "metadata": {
        "collapsed": true,
        "id": "UHewIg1ITPyy",
        "colab": {
          "base_uri": "https://localhost:8080/"
        },
        "outputId": "a2d8f7ce-5de6-4227-8fbe-f83b4a82d8b0",
        "jupyter": {
          "outputs_hidden": true
        }
      },
      "execution_count": 1445,
      "outputs": [
        {
          "output_type": "stream",
          "name": "stdout",
          "text": "    X  Y  safe  mine  prob_mine  adjacent\n\n0   0  0     0     0        0.4       0.0\n\n1   1  0     0     0        0.4       0.0\n\n2   2  0     0     1        0.4       NaN\n\n3   3  0     0     0        0.4       0.0\n\n4   4  0     0     1        0.4       NaN\n\n5   0  1     0     0        0.4       0.0\n\n6   1  1     0     0        0.4       0.0\n\n7   2  1     0     0        0.4       0.0\n\n8   3  1     0     1        0.4       NaN\n\n9   4  1     0     1        0.4       NaN\n\n10  0  2     0     0        0.4       0.0\n\n11  1  2     0     0        0.4       0.0\n\n12  2  2     0     1        0.4       NaN\n\n13  3  2     0     0        0.4       0.0\n\n14  4  2     0     1        0.4       NaN\n\n15  0  3     0     0        0.4       0.0\n\n16  1  3     0     0        0.4       0.0\n\n17  2  3     0     1        0.4       NaN\n\n18  3  3     0     0        0.4       0.0\n\n19  4  3     0     1        0.4       NaN\n"
        }
      ]
    },
    {
      "cell_type": "markdown",
      "source": "**55**. Finally, convert the DataFrame to grid of the adjacent mine counts: columns are the `x` coordinate, rows are the `y` coordinate.",
      "metadata": {
        "id": "bRNmI130TPyy"
      }
    },
    {
      "cell_type": "code",
      "source": "df_state_0 = df_state_0.set_index(['Y', 'X']).unstack()\nprint(df_state_0) #20min",
      "metadata": {
        "collapsed": true,
        "id": "dtQ7ZN7yTPyz",
        "colab": {
          "base_uri": "https://localhost:8080/"
        },
        "outputId": "12b46262-8517-47ae-c942-58077855543e",
        "jupyter": {
          "outputs_hidden": true
        }
      },
      "execution_count": 1446,
      "outputs": [
        {
          "output_type": "stream",
          "name": "stdout",
          "text": "  safe             mine             prob_mine                     adjacent  \\\n\nX    0  1  2  3  4    0  1  2  3  4         0    1    2    3    4        0   \n\nY                                                                            \n\n0    0  0  0  0  0    0  0  1  0  1       0.4  0.4  0.4  0.4  0.4      0.0   \n\n1    0  0  0  0  0    0  0  0  1  1       0.4  0.4  0.4  0.4  0.4      0.0   \n\n2    0  0  0  0  0    0  0  1  0  1       0.4  0.4  0.4  0.4  0.4      0.0   \n\n3    0  0  0  0  0    0  0  1  0  1       0.4  0.4  0.4  0.4  0.4      0.0   \n\n\n\n                      \n\nX    1    2    3   4  \n\nY                     \n\n0  0.0  NaN  0.0 NaN  \n\n1  0.0  0.0  NaN NaN  \n\n2  0.0  NaN  0.0 NaN  \n\n3  0.0  NaN  0.0 NaN  \n"
        }
      ]
    },
    {
      "cell_type": "markdown",
      "source": "## Plotting\n\n### Visualize trends and patterns in data\n\nDifficulty: *medium*\n\nTo really get a good understanding of the data contained in your DataFrame, it is often essential to create plots: if you're lucky, trends and anomalies will jump right out at you. This functionality is baked into pandas and the puzzles below explore some of what's possible with the library.\n\n**56.** Pandas is highly integrated with the plotting library matplotlib, and makes plotting DataFrames very user-friendly! Plotting in a notebook environment usually makes use of the following boilerplate:\n\n```python\nimport matplotlib.pyplot as plt\n%matplotlib inline\nplt.style.use('ggplot')\n```\n\nmatplotlib is the plotting library which pandas' plotting functionality is built upon, and it is usually aliased to ```plt```.\n\n```%matplotlib inline``` tells the notebook to show plots inline, instead of creating them in a separate window.  \n\n```plt.style.use('ggplot')``` is a style theme that most people find agreeable, based upon the styling of R's ggplot package.\n\nFor starters, make a scatter plot of this random data, but use black X's instead of the default markers. \n\n```df = pd.DataFrame({\"xs\":[1,5,2,8,1], \"ys\":[4,2,1,9,6]})```\n\nConsult the [documentation](https://pandas.pydata.org/pandas-docs/stable/generated/pandas.DataFrame.plot.html) if you get stuck!",
      "metadata": {
        "id": "ZQeqRyDdTPyz"
      }
    },
    {
      "cell_type": "code",
      "source": "import matplotlib.pyplot as plt\n%matplotlib inline\nplt.style.use('ggplot')\n\ndf = pd.DataFrame({'xs':[1, 5, 2, 8, 1], 'ys':[4, 2, 1, 9, 6]})\ndf.plot.scatter('xs', \"ys\", color = 'black', marker = \"x\" )  #10min",
      "metadata": {
        "collapsed": true,
        "id": "-I45JPxLTPy0",
        "colab": {
          "base_uri": "https://localhost:8080/",
          "height": 299
        },
        "outputId": "9ba7f4e5-f74c-4e29-b128-07886f7c290a",
        "jupyter": {
          "outputs_hidden": true
        }
      },
      "execution_count": 1447,
      "outputs": [
        {
          "output_type": "execute_result",
          "execution_count": 1447,
          "data": {
            "text/plain": [
              "<matplotlib.axes._subplots.AxesSubplot at 0x7fb97b04c790>"
            ]
          },
          "metadata": {}
        },
        {
          "output_type": "display_data",
          "data": {
            "text/plain": [
              "<Figure size 432x288 with 1 Axes>"
            ],
            "image/png": "[encoded data removed]"
          },
          "metadata": {}
        }
      ]
    },
    {
      "cell_type": "markdown",
      "source": "**57.** Columns in your DataFrame can also be used to modify colors and sizes.  Bill has been keeping track of his performance at work over time, as well as how good he was feeling that day, and whether he had a cup of coffee in the morning.  Make a plot which incorporates all four features of this DataFrame.\n\n(Hint:  If you're having trouble seeing the plot, try multiplying the Series which you choose to represent size by 10 or more)\n\n*The chart doesn't have to be pretty: this isn't a course in data viz!*\n\n```\ndf = pd.DataFrame({\"productivity\":[5,2,3,1,4,5,6,7,8,3,4,8,9],\n                   \"hours_in\"    :[1,9,6,5,3,9,2,9,1,7,4,2,2],\n                   \"happiness\"   :[2,1,3,2,3,1,2,3,1,2,2,1,3],\n                   \"caffienated\" :[0,0,1,1,0,0,0,0,1,1,0,1,0]})\n```",
      "metadata": {
        "id": "bc6yy3MtTPy0"
      }
    },
    {
      "cell_type": "code",
      "source": "df = pd.DataFrame({\"productivity\":[5,2,3,1,4,5,6,7,8,3,4,8,9],\n                   \"hours_in\"    :[1,9,6,5,3,9,2,9,1,7,4,2,2],\n                   \"happiness\"   :[2,1,3,2,3,1,2,3,1,2,2,1,3],\n                   \"caffienated\" :[0,0,1,1,0,0,0,0,1,1,0,1,0]})\ndf.plot.scatter(\"hours_in\", \"productivity\", s = df[\"happiness\"]*20, c = df[\"caffienated\"] )  #15min",
      "metadata": {
        "collapsed": true,
        "id": "JKBAEA6cTPy0",
        "colab": {
          "base_uri": "https://localhost:8080/",
          "height": 299
        },
        "outputId": "ddab72a2-761f-409f-9a92-13f2ac6545de",
        "jupyter": {
          "outputs_hidden": true
        }
      },
      "execution_count": 1448,
      "outputs": [
        {
          "output_type": "execute_result",
          "execution_count": 1448,
          "data": {
            "text/plain": [
              "<matplotlib.axes._subplots.AxesSubplot at 0x7fb97aef0390>"
            ]
          },
          "metadata": {}
        },
        {
          "output_type": "display_data",
          "data": {
            "text/plain": [
              "<Figure size 432x288 with 1 Axes>"
            ],
            "image/png": "[encoded data removed]"
          },
          "metadata": {}
        }
      ]
    },
    {
      "cell_type": "markdown",
      "source": "**58.**  What if we want to plot multiple things?  Pandas allows you to pass in a matplotlib *Axis* object for plots, and plots will also return an Axis object.\n\nMake a bar plot of monthly revenue with a line plot of monthly advertising spending (numbers in millions)\n\n```\ndf = pd.DataFrame({\"revenue\":[57,68,63,71,72,90,80,62,59,51,47,52],\n                   \"advertising\":[2.1,1.9,2.7,3.0,3.6,3.2,2.7,2.4,1.8,1.6,1.3,1.9],\n                   \"month\":range(12)\n                  })\n```",
      "metadata": {
        "id": "8FrK5zGbTPy1"
      }
    },
    {
      "cell_type": "code",
      "source": "df = pd.DataFrame({\"revenue\":[57,68,63,71,72,90,80,62,59,51,47,52],\n                   \"advertising\":[2.1,1.9,2.7,3.0,3.6,3.2,2.7,2.4,1.8,1.6,1.3,1.9],\n                   \"month\":range(12)\n                  })\n\nax = df.plot.bar(\"month\", \"revenue\", color = \"green\")\ndf.plot.line(\"month\", \"advertising\", secondary_y = True, ax = ax)\nax.set_xlim((-1, 12))   #15min\n",
      "metadata": {
        "collapsed": true,
        "id": "txxHpYWpTPy1",
        "colab": {
          "base_uri": "https://localhost:8080/",
          "height": 299
        },
        "outputId": "76f88f82-07cb-4c91-a0d7-38aac90c2916",
        "jupyter": {
          "outputs_hidden": true
        }
      },
      "execution_count": 1449,
      "outputs": [
        {
          "output_type": "execute_result",
          "execution_count": 1449,
          "data": {
            "text/plain": [
              "(-1.0, 12.0)"
            ]
          },
          "metadata": {}
        },
        {
          "output_type": "display_data",
          "data": {
            "text/plain": [
              "<Figure size 432x288 with 2 Axes>"
            ],
            "image/png": "[encoded data removed]"
          },
          "metadata": {}
        }
      ]
    },
    {
      "cell_type": "markdown",
      "source": "Now we're finally ready to create a candlestick chart, which is a very common tool used to analyze stock price data.  A candlestick chart shows the opening, closing, highest, and lowest price for a stock during a time window.  The color of the \"candle\" (the thick part of the bar) is green if the stock closed above its opening price, or red if below.\n\n![Candlestick Example](img/candle.jpg)\n\nThis was initially designed to be a pandas plotting challenge, but it just so happens that this type of plot is just not feasible using pandas' methods.  If you are unfamiliar with matplotlib, we have provided a function that will plot the chart for you so long as you can use pandas to get the data into the correct format.\n\nYour first step should be to get the data in the correct format using pandas' time-series grouping function.  We would like each candle to represent an hour's worth of data.  You can write your own aggregation function which returns the open/high/low/close, but pandas has a built-in which also does this.",
      "metadata": {
        "id": "9UXOhXM_TPy2"
      }
    },
    {
      "cell_type": "markdown",
      "source": "The below cell contains helper functions.  Call ```day_stock_data()``` to generate a DataFrame containing the prices a hypothetical stock sold for, and the time the sale occurred.  Call ```plot_candlestick(df)``` on your properly aggregated and formatted stock data to print the candlestick chart.",
      "metadata": {
        "id": "06kAaI0eTPy2"
      }
    },
    {
      "cell_type": "code",
      "source": "import numpy as np\ndef float_to_time(x):\n    return str(int(x)) + \":\" + str(int(x%1 * 60)).zfill(2) + \":\" + str(int(x*60 % 1 * 60)).zfill(2)\n\ndef day_stock_data():\n    #NYSE is open from 9:30 to 4:00\n    time = 9.5\n    price = 100\n    results = [(float_to_time(time), price)]\n    while time < 16:\n        elapsed = np.random.exponential(.001)\n        time += elapsed\n        if time > 16:\n            break\n        price_diff = np.random.uniform(.999, 1.001)\n        price *= price_diff\n        results.append((float_to_time(time), price))\n    \n    \n    df = pd.DataFrame(results, columns = ['time','price'])\n    df.time = pd.to_datetime(df.time)\n    return df\n\n#Don't read me unless you get stuck!\ndef plot_candlestick(agg):\n    \"\"\"\n    agg is a DataFrame which has a DatetimeIndex and five columns: [\"open\",\"high\",\"low\",\"close\",\"color\"]\n    \"\"\"\n    fig, ax = plt.subplots()\n    for time in agg.index:\n        ax.plot([time.hour] * 2, agg.loc[time, [\"high\",\"low\"]].values, color = \"black\")\n        ax.plot([time.hour] * 2, agg.loc[time, [\"open\",\"close\"]].values, color = agg.loc[time, \"color\"], linewidth = 10)\n\n    ax.set_xlim((8,16))\n    ax.set_ylabel(\"Price\")\n    ax.set_xlabel(\"Hour\")\n    ax.set_title(\"OHLC of Stock Value During Trading Day\")\n    plt.show()",
      "metadata": {
        "collapsed": true,
        "id": "SoaWcB4RTPy3",
        "jupyter": {
          "outputs_hidden": true
        }
      },
      "execution_count": 1450,
      "outputs": []
    },
    {
      "cell_type": "markdown",
      "source": "**59.** Generate a day's worth of random stock data, and aggregate / reformat it so that it has hourly summaries of the opening, highest, lowest, and closing prices",
      "metadata": {
        "id": "G0pTaO8HTPy5"
      }
    },
    {
      "cell_type": "code",
      "source": "df = day_stock_data()\ndf.head()\n\ndf.set_index(\"time\", inplace = True)\nagg = df.resample(\"H\").ohlc()\nagg.columns = agg.columns.droplevel()\nagg[\"color\"] = (agg.close > agg.open).map({True:\"green\",False:\"red\"})\nagg.head() #30min",
      "metadata": {
        "collapsed": true,
        "id": "2z2eDb5DTPy6",
        "colab": {
          "base_uri": "https://localhost:8080/",
          "height": 238
        },
        "outputId": "718c98dc-2a8d-4813-c948-5920d25b3ce9",
        "jupyter": {
          "outputs_hidden": true
        }
      },
      "execution_count": 1451,
      "outputs": [
        {
          "output_type": "execute_result",
          "execution_count": 1451,
          "data": {
            "text/plain": [
              "                           open        high        low       close  color\n",
              "time                                                                     \n",
              "2022-05-30 09:00:00  100.000000  101.152079  99.399094  100.679088  green\n",
              "2022-05-30 10:00:00  100.590830  101.082190  97.545361   97.956964    red\n",
              "2022-05-30 11:00:00   97.948237   98.348030  96.099787   97.100671    red\n",
              "2022-05-30 12:00:00   97.044675   98.393450  95.493610   97.510688  green\n",
              "2022-05-30 13:00:00   97.477409  100.029392  97.089258   99.648462  green"
            ],
            "text/html": [
              "\n",
              "  <div id=\"df-76ecc7cb-1d78-4a19-9b53-43cce0bc31fe\">\n",
              "    <div class=\"colab-df-container\">\n",
              "      <div>\n",
              "<style scoped>\n",
              "    .dataframe tbody tr th:only-of-type {\n",
              "        vertical-align: middle;\n",
              "    }\n",
              "\n",
              "    .dataframe tbody tr th {\n",
              "        vertical-align: top;\n",
              "    }\n",
              "\n",
              "    .dataframe thead th {\n",
              "        text-align: right;\n",
              "    }\n",
              "</style>\n",
              "<table border=\"1\" class=\"dataframe\">\n",
              "  <thead>\n",
              "    <tr style=\"text-align: right;\">\n",
              "      <th></th>\n",
              "      <th>open</th>\n",
              "      <th>high</th>\n",
              "      <th>low</th>\n",
              "      <th>close</th>\n",
              "      <th>color</th>\n",
              "    </tr>\n",
              "    <tr>\n",
              "      <th>time</th>\n",
              "      <th></th>\n",
              "      <th></th>\n",
              "      <th></th>\n",
              "      <th></th>\n",
              "      <th></th>\n",
              "    </tr>\n",
              "  </thead>\n",
              "  <tbody>\n",
              "    <tr>\n",
              "      <th>2022-05-30 09:00:00</th>\n",
              "      <td>100.000000</td>\n",
              "      <td>101.152079</td>\n",
              "      <td>99.399094</td>\n",
              "      <td>100.679088</td>\n",
              "      <td>green</td>\n",
              "    </tr>\n",
              "    <tr>\n",
              "      <th>2022-05-30 10:00:00</th>\n",
              "      <td>100.590830</td>\n",
              "      <td>101.082190</td>\n",
              "      <td>97.545361</td>\n",
              "      <td>97.956964</td>\n",
              "      <td>red</td>\n",
              "    </tr>\n",
              "    <tr>\n",
              "      <th>2022-05-30 11:00:00</th>\n",
              "      <td>97.948237</td>\n",
              "      <td>98.348030</td>\n",
              "      <td>96.099787</td>\n",
              "      <td>97.100671</td>\n",
              "      <td>red</td>\n",
              "    </tr>\n",
              "    <tr>\n",
              "      <th>2022-05-30 12:00:00</th>\n",
              "      <td>97.044675</td>\n",
              "      <td>98.393450</td>\n",
              "      <td>95.493610</td>\n",
              "      <td>97.510688</td>\n",
              "      <td>green</td>\n",
              "    </tr>\n",
              "    <tr>\n",
              "      <th>2022-05-30 13:00:00</th>\n",
              "      <td>97.477409</td>\n",
              "      <td>100.029392</td>\n",
              "      <td>97.089258</td>\n",
              "      <td>99.648462</td>\n",
              "      <td>green</td>\n",
              "    </tr>\n",
              "  </tbody>\n",
              "</table>\n",
              "</div>\n",
              "      <button class=\"colab-df-convert\" onclick=\"convertToInteractive('df-76ecc7cb-1d78-4a19-9b53-43cce0bc31fe')\"\n",
              "              title=\"Convert this dataframe to an interactive table.\"\n",
              "              style=\"display:none;\">\n",
              "        \n",
              "  <svg xmlns=\"http://www.w3.org/2000/svg\" height=\"24px\"viewBox=\"0 0 24 24\"\n",
              "       width=\"24px\">\n",
              "    <path d=\"M0 0h24v24H0V0z\" fill=\"none\"/>\n",
              "    <path d=\"M18.56 5.44l.94 2.06.94-2.06 2.06-.94-2.06-.94-.94-2.06-.94 2.06-2.06.94zm-11 1L8.5 8.5l.94-2.06 2.06-.94-2.06-.94L8.5 2.5l-.94 2.06-2.06.94zm10 10l.94 2.06.94-2.06 2.06-.94-2.06-.94-.94-2.06-.94 2.06-2.06.94z\"/><path d=\"M17.41 7.96l-1.37-1.37c-.4-.4-.92-.59-1.43-.59-.52 0-1.04.2-1.43.59L10.3 9.45l-7.72 7.72c-.78.78-.78 2.05 0 2.83L4 21.41c.39.39.9.59 1.41.59.51 0 1.02-.2 1.41-.59l7.78-7.78 2.81-2.81c.8-.78.8-2.07 0-2.86zM5.41 20L4 18.59l7.72-7.72 1.47 1.35L5.41 20z\"/>\n",
              "  </svg>\n",
              "      </button>\n",
              "      \n",
              "  <style>\n",
              "    .colab-df-container {\n",
              "      display:flex;\n",
              "      flex-wrap:wrap;\n",
              "      gap: 12px;\n",
              "    }\n",
              "\n",
              "    .colab-df-convert {\n",
              "      background-color: #E8F0FE;\n",
              "      border: none;\n",
              "      border-radius: 50%;\n",
              "      cursor: pointer;\n",
              "      display: none;\n",
              "      fill: #1967D2;\n",
              "      height: 32px;\n",
              "      padding: 0 0 0 0;\n",
              "      width: 32px;\n",
              "    }\n",
              "\n",
              "    .colab-df-convert:hover {\n",
              "      background-color: #E2EBFA;\n",
              "      box-shadow: 0px 1px 2px rgba(60, 64, 67, 0.3), 0px 1px 3px 1px rgba(60, 64, 67, 0.15);\n",
              "      fill: #174EA6;\n",
              "    }\n",
              "\n",
              "    [theme=dark] .colab-df-convert {\n",
              "      background-color: #3B4455;\n",
              "      fill: #D2E3FC;\n",
              "    }\n",
              "\n",
              "    [theme=dark] .colab-df-convert:hover {\n",
              "      background-color: #434B5C;\n",
              "      box-shadow: 0px 1px 3px 1px rgba(0, 0, 0, 0.15);\n",
              "      filter: drop-shadow(0px 1px 2px rgba(0, 0, 0, 0.3));\n",
              "      fill: #FFFFFF;\n",
              "    }\n",
              "  </style>\n",
              "\n",
              "      <script>\n",
              "        const buttonEl =\n",
              "          document.querySelector('#df-76ecc7cb-1d78-4a19-9b53-43cce0bc31fe button.colab-df-convert');\n",
              "        buttonEl.style.display =\n",
              "          google.colab.kernel.accessAllowed ? 'block' : 'none';\n",
              "\n",
              "        async function convertToInteractive(key) {\n",
              "          const element = document.querySelector('#df-76ecc7cb-1d78-4a19-9b53-43cce0bc31fe');\n",
              "          const dataTable =\n",
              "            await google.colab.kernel.invokeFunction('convertToInteractive',\n",
              "                                                     [key], {});\n",
              "          if (!dataTable) return;\n",
              "\n",
              "          const docLinkHtml = 'Like what you see? Visit the ' +\n",
              "            '<a target=\"_blank\" href=https://colab.research.google.com/notebooks/data_table.ipynb>data table notebook</a>'\n",
              "            + ' to learn more about interactive tables.';\n",
              "          element.innerHTML = '';\n",
              "          dataTable['output_type'] = 'display_data';\n",
              "          await google.colab.output.renderOutput(dataTable, element);\n",
              "          const docLink = document.createElement('div');\n",
              "          docLink.innerHTML = docLinkHtml;\n",
              "          element.appendChild(docLink);\n",
              "        }\n",
              "      </script>\n",
              "    </div>\n",
              "  </div>\n",
              "  "
            ]
          },
          "metadata": {}
        }
      ]
    },
    {
      "cell_type": "markdown",
      "source": "**60.** Now that you have your properly-formatted data, try to plot it yourself as a candlestick chart.  Use the ```plot_candlestick(df)``` function above, or matplotlib's [```plot``` documentation](https://matplotlib.org/api/_as_gen/matplotlib.axes.Axes.plot.html) if you get stuck.",
      "metadata": {
        "id": "hhYs1QdZTPy6"
      }
    },
    {
      "cell_type": "code",
      "source": "plot_candlestick(agg) #10min",
      "metadata": {
        "collapsed": true,
        "id": "nGR2UXuRTPy7",
        "colab": {
          "base_uri": "https://localhost:8080/",
          "height": 299
        },
        "outputId": "da559d5f-0382-4611-f34d-62ca1dd52e71",
        "jupyter": {
          "outputs_hidden": true
        }
      },
      "execution_count": 1452,
      "outputs": [
        {
          "output_type": "display_data",
          "data": {
            "text/plain": [
              "<Figure size 432x288 with 1 Axes>"
            ],
            "image/png": "[encoded data removed]"
          },
          "metadata": {}
        }
      ]
    }
  ]
}